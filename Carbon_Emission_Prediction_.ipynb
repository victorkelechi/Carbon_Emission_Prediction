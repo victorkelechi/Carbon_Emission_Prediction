{
 "cells": [
  {
   "cell_type": "markdown",
   "id": "855156cc-ce22-473b-898e-640239e2702a",
   "metadata": {
    "id": "855156cc-ce22-473b-898e-640239e2702a"
   },
   "source": [
    "## Air Quality Prediction from Low-Cost IoT devices\n",
    "Data Scientist: Victor Kelechi Ahaji\n",
    "\n",
    "`Objective:`\n",
    "Developing a machine learning model that accurately predicts CO2 levels using data from Chemotronix’s low-cost sensors. Building this model will help bridge the gap between affordability and precision in carbon emission tracking enabling widespread adoption of low-cost monitoring technologies.\n",
    "\n",
    "`Expected Result:`\n",
    "> 1.) Democratize access to environmental monitoring tools.\n",
    "\n",
    "> 2.) Assist governments and organizations in implementing data-driven policies to curb carbon emissions.\n",
    "\n",
    "> 3.) Promote sustainability by making emission tracking affordable for communities and industries worldwide.\n",
    "\n",
    "`Evaluation:`\n",
    "The evaluation metric for this competition is Root Mean Squared Error."
   ]
  },
  {
   "cell_type": "code",
   "execution_count": null,
   "id": "c5ed29d4",
   "metadata": {},
   "outputs": [],
   "source": [
    "!pip uninstall pandas -y\n",
    "!pip uninstall numpy -y\n",
    "!pip install pandas\n",
    "!pip install numpy"
   ]
  },
  {
   "cell_type": "markdown",
   "id": "c3483bf5-0728-4828-9196-3e9395178de9",
   "metadata": {
    "id": "c3483bf5-0728-4828-9196-3e9395178de9"
   },
   "source": [
    "### Importing Libraries"
   ]
  },
  {
   "cell_type": "code",
   "execution_count": 4,
   "id": "597af307-fdc9-459e-9a54-1bcabc2eb213",
   "metadata": {
    "colab": {
     "base_uri": "https://localhost:8080/",
     "height": 575
    },
    "id": "597af307-fdc9-459e-9a54-1bcabc2eb213",
    "outputId": "57a94f3a-98c4-408a-d48c-17fb5d8e596b"
   },
   "outputs": [
    {
     "name": "stderr",
     "output_type": "stream",
     "text": [
      "\n",
      "A module that was compiled using NumPy 1.x cannot be run in\n",
      "NumPy 2.0.2 as it may crash. To support both 1.x and 2.x\n",
      "versions of NumPy, modules must be compiled with NumPy 2.0.\n",
      "Some module may need to rebuild instead e.g. with 'pybind11>=2.12'.\n",
      "\n",
      "If you are a user of the module, the easiest solution will be to\n",
      "downgrade to 'numpy<2' or try to upgrade the affected module.\n",
      "We expect that some modules will need time to support NumPy 2.\n",
      "\n",
      "Traceback (most recent call last):  File \"C:\\Users\\Ahaji Kelechi\\anaconda3\\lib\\runpy.py\", line 197, in _run_module_as_main\n",
      "    return _run_code(code, main_globals, None,\n",
      "  File \"C:\\Users\\Ahaji Kelechi\\anaconda3\\lib\\runpy.py\", line 87, in _run_code\n",
      "    exec(code, run_globals)\n",
      "  File \"C:\\Users\\Ahaji Kelechi\\anaconda3\\lib\\site-packages\\ipykernel_launcher.py\", line 17, in <module>\n",
      "    app.launch_new_instance()\n",
      "  File \"C:\\Users\\Ahaji Kelechi\\anaconda3\\lib\\site-packages\\traitlets\\config\\application.py\", line 846, in launch_instance\n",
      "    app.start()\n",
      "  File \"C:\\Users\\Ahaji Kelechi\\anaconda3\\lib\\site-packages\\ipykernel\\kernelapp.py\", line 712, in start\n",
      "    self.io_loop.start()\n",
      "  File \"C:\\Users\\Ahaji Kelechi\\anaconda3\\lib\\site-packages\\tornado\\platform\\asyncio.py\", line 199, in start\n",
      "    self.asyncio_loop.run_forever()\n",
      "  File \"C:\\Users\\Ahaji Kelechi\\anaconda3\\lib\\asyncio\\base_events.py\", line 601, in run_forever\n",
      "    self._run_once()\n",
      "  File \"C:\\Users\\Ahaji Kelechi\\anaconda3\\lib\\asyncio\\base_events.py\", line 1905, in _run_once\n",
      "    handle._run()\n",
      "  File \"C:\\Users\\Ahaji Kelechi\\anaconda3\\lib\\asyncio\\events.py\", line 80, in _run\n",
      "    self._context.run(self._callback, *self._args)\n",
      "  File \"C:\\Users\\Ahaji Kelechi\\anaconda3\\lib\\site-packages\\ipykernel\\kernelbase.py\", line 510, in dispatch_queue\n",
      "    await self.process_one()\n",
      "  File \"C:\\Users\\Ahaji Kelechi\\anaconda3\\lib\\site-packages\\ipykernel\\kernelbase.py\", line 499, in process_one\n",
      "    await dispatch(*args)\n",
      "  File \"C:\\Users\\Ahaji Kelechi\\anaconda3\\lib\\site-packages\\ipykernel\\kernelbase.py\", line 406, in dispatch_shell\n",
      "    await result\n",
      "  File \"C:\\Users\\Ahaji Kelechi\\anaconda3\\lib\\site-packages\\ipykernel\\kernelbase.py\", line 730, in execute_request\n",
      "    reply_content = await reply_content\n",
      "  File \"C:\\Users\\Ahaji Kelechi\\anaconda3\\lib\\site-packages\\ipykernel\\ipkernel.py\", line 390, in do_execute\n",
      "    res = shell.run_cell(code, store_history=store_history, silent=silent)\n",
      "  File \"C:\\Users\\Ahaji Kelechi\\anaconda3\\lib\\site-packages\\ipykernel\\zmqshell.py\", line 528, in run_cell\n",
      "    return super().run_cell(*args, **kwargs)\n",
      "  File \"C:\\Users\\Ahaji Kelechi\\anaconda3\\lib\\site-packages\\IPython\\core\\interactiveshell.py\", line 2914, in run_cell\n",
      "    result = self._run_cell(\n",
      "  File \"C:\\Users\\Ahaji Kelechi\\anaconda3\\lib\\site-packages\\IPython\\core\\interactiveshell.py\", line 2960, in _run_cell\n",
      "    return runner(coro)\n",
      "  File \"C:\\Users\\Ahaji Kelechi\\anaconda3\\lib\\site-packages\\IPython\\core\\async_helpers.py\", line 78, in _pseudo_sync_runner\n",
      "    coro.send(None)\n",
      "  File \"C:\\Users\\Ahaji Kelechi\\anaconda3\\lib\\site-packages\\IPython\\core\\interactiveshell.py\", line 3185, in run_cell_async\n",
      "    has_raised = await self.run_ast_nodes(code_ast.body, cell_name,\n",
      "  File \"C:\\Users\\Ahaji Kelechi\\anaconda3\\lib\\site-packages\\IPython\\core\\interactiveshell.py\", line 3377, in run_ast_nodes\n",
      "    if (await self.run_code(code, result,  async_=asy)):\n",
      "  File \"C:\\Users\\Ahaji Kelechi\\anaconda3\\lib\\site-packages\\IPython\\core\\interactiveshell.py\", line 3457, in run_code\n",
      "    exec(code_obj, self.user_global_ns, self.user_ns)\n",
      "  File \"C:\\Users\\Ahaji Kelechi\\AppData\\Local\\Temp\\ipykernel_12996\\1840293101.py\", line 3, in <module>\n",
      "    import pandas as pd\n",
      "  File \"C:\\Users\\Ahaji Kelechi\\anaconda3\\lib\\site-packages\\pandas\\__init__.py\", line 80, in <module>\n",
      "    from pandas.core.api import (\n",
      "  File \"C:\\Users\\Ahaji Kelechi\\anaconda3\\lib\\site-packages\\pandas\\core\\api.py\", line 28, in <module>\n",
      "    from pandas.core.arrays import Categorical\n",
      "  File \"C:\\Users\\Ahaji Kelechi\\anaconda3\\lib\\site-packages\\pandas\\core\\arrays\\__init__.py\", line 1, in <module>\n",
      "    from pandas.core.arrays.arrow import ArrowExtensionArray\n",
      "  File \"C:\\Users\\Ahaji Kelechi\\anaconda3\\lib\\site-packages\\pandas\\core\\arrays\\arrow\\__init__.py\", line 5, in <module>\n",
      "    from pandas.core.arrays.arrow.array import ArrowExtensionArray\n",
      "  File \"C:\\Users\\Ahaji Kelechi\\anaconda3\\lib\\site-packages\\pandas\\core\\arrays\\arrow\\array.py\", line 50, in <module>\n",
      "    from pandas.core import (\n",
      "  File \"C:\\Users\\Ahaji Kelechi\\anaconda3\\lib\\site-packages\\pandas\\core\\ops\\__init__.py\", line 8, in <module>\n",
      "    from pandas.core.ops.array_ops import (\n",
      "  File \"C:\\Users\\Ahaji Kelechi\\anaconda3\\lib\\site-packages\\pandas\\core\\ops\\array_ops.py\", line 56, in <module>\n",
      "    from pandas.core.computation import expressions\n",
      "  File \"C:\\Users\\Ahaji Kelechi\\anaconda3\\lib\\site-packages\\pandas\\core\\computation\\expressions.py\", line 21, in <module>\n",
      "    from pandas.core.computation.check import NUMEXPR_INSTALLED\n",
      "  File \"C:\\Users\\Ahaji Kelechi\\anaconda3\\lib\\site-packages\\pandas\\core\\computation\\check.py\", line 5, in <module>\n",
      "    ne = import_optional_dependency(\"numexpr\", errors=\"warn\")\n",
      "  File \"C:\\Users\\Ahaji Kelechi\\anaconda3\\lib\\site-packages\\pandas\\compat\\_optional.py\", line 135, in import_optional_dependency\n",
      "    module = importlib.import_module(name)\n",
      "  File \"C:\\Users\\Ahaji Kelechi\\anaconda3\\lib\\importlib\\__init__.py\", line 127, in import_module\n",
      "    return _bootstrap._gcd_import(name[level:], package, level)\n",
      "  File \"C:\\Users\\Ahaji Kelechi\\anaconda3\\lib\\site-packages\\numexpr\\__init__.py\", line 24, in <module>\n",
      "    from numexpr.interpreter import MAX_THREADS, use_vml, __BLOCK_SIZE1__\n"
     ]
    },
    {
     "ename": "AttributeError",
     "evalue": "_ARRAY_API not found",
     "output_type": "error",
     "traceback": [
      "\u001b[1;31m---------------------------------------------------------------------------\u001b[0m",
      "\u001b[1;31mAttributeError\u001b[0m                            Traceback (most recent call last)",
      "\u001b[1;31mAttributeError\u001b[0m: _ARRAY_API not found"
     ]
    },
    {
     "name": "stderr",
     "output_type": "stream",
     "text": [
      "\n",
      "A module that was compiled using NumPy 1.x cannot be run in\n",
      "NumPy 2.0.2 as it may crash. To support both 1.x and 2.x\n",
      "versions of NumPy, modules must be compiled with NumPy 2.0.\n",
      "Some module may need to rebuild instead e.g. with 'pybind11>=2.12'.\n",
      "\n",
      "If you are a user of the module, the easiest solution will be to\n",
      "downgrade to 'numpy<2' or try to upgrade the affected module.\n",
      "We expect that some modules will need time to support NumPy 2.\n",
      "\n",
      "Traceback (most recent call last):  File \"C:\\Users\\Ahaji Kelechi\\anaconda3\\lib\\runpy.py\", line 197, in _run_module_as_main\n",
      "    return _run_code(code, main_globals, None,\n",
      "  File \"C:\\Users\\Ahaji Kelechi\\anaconda3\\lib\\runpy.py\", line 87, in _run_code\n",
      "    exec(code, run_globals)\n",
      "  File \"C:\\Users\\Ahaji Kelechi\\anaconda3\\lib\\site-packages\\ipykernel_launcher.py\", line 17, in <module>\n",
      "    app.launch_new_instance()\n",
      "  File \"C:\\Users\\Ahaji Kelechi\\anaconda3\\lib\\site-packages\\traitlets\\config\\application.py\", line 846, in launch_instance\n",
      "    app.start()\n",
      "  File \"C:\\Users\\Ahaji Kelechi\\anaconda3\\lib\\site-packages\\ipykernel\\kernelapp.py\", line 712, in start\n",
      "    self.io_loop.start()\n",
      "  File \"C:\\Users\\Ahaji Kelechi\\anaconda3\\lib\\site-packages\\tornado\\platform\\asyncio.py\", line 199, in start\n",
      "    self.asyncio_loop.run_forever()\n",
      "  File \"C:\\Users\\Ahaji Kelechi\\anaconda3\\lib\\asyncio\\base_events.py\", line 601, in run_forever\n",
      "    self._run_once()\n",
      "  File \"C:\\Users\\Ahaji Kelechi\\anaconda3\\lib\\asyncio\\base_events.py\", line 1905, in _run_once\n",
      "    handle._run()\n",
      "  File \"C:\\Users\\Ahaji Kelechi\\anaconda3\\lib\\asyncio\\events.py\", line 80, in _run\n",
      "    self._context.run(self._callback, *self._args)\n",
      "  File \"C:\\Users\\Ahaji Kelechi\\anaconda3\\lib\\site-packages\\ipykernel\\kernelbase.py\", line 510, in dispatch_queue\n",
      "    await self.process_one()\n",
      "  File \"C:\\Users\\Ahaji Kelechi\\anaconda3\\lib\\site-packages\\ipykernel\\kernelbase.py\", line 499, in process_one\n",
      "    await dispatch(*args)\n",
      "  File \"C:\\Users\\Ahaji Kelechi\\anaconda3\\lib\\site-packages\\ipykernel\\kernelbase.py\", line 406, in dispatch_shell\n",
      "    await result\n",
      "  File \"C:\\Users\\Ahaji Kelechi\\anaconda3\\lib\\site-packages\\ipykernel\\kernelbase.py\", line 730, in execute_request\n",
      "    reply_content = await reply_content\n",
      "  File \"C:\\Users\\Ahaji Kelechi\\anaconda3\\lib\\site-packages\\ipykernel\\ipkernel.py\", line 390, in do_execute\n",
      "    res = shell.run_cell(code, store_history=store_history, silent=silent)\n",
      "  File \"C:\\Users\\Ahaji Kelechi\\anaconda3\\lib\\site-packages\\ipykernel\\zmqshell.py\", line 528, in run_cell\n",
      "    return super().run_cell(*args, **kwargs)\n",
      "  File \"C:\\Users\\Ahaji Kelechi\\anaconda3\\lib\\site-packages\\IPython\\core\\interactiveshell.py\", line 2914, in run_cell\n",
      "    result = self._run_cell(\n",
      "  File \"C:\\Users\\Ahaji Kelechi\\anaconda3\\lib\\site-packages\\IPython\\core\\interactiveshell.py\", line 2960, in _run_cell\n",
      "    return runner(coro)\n",
      "  File \"C:\\Users\\Ahaji Kelechi\\anaconda3\\lib\\site-packages\\IPython\\core\\async_helpers.py\", line 78, in _pseudo_sync_runner\n",
      "    coro.send(None)\n",
      "  File \"C:\\Users\\Ahaji Kelechi\\anaconda3\\lib\\site-packages\\IPython\\core\\interactiveshell.py\", line 3185, in run_cell_async\n",
      "    has_raised = await self.run_ast_nodes(code_ast.body, cell_name,\n",
      "  File \"C:\\Users\\Ahaji Kelechi\\anaconda3\\lib\\site-packages\\IPython\\core\\interactiveshell.py\", line 3377, in run_ast_nodes\n",
      "    if (await self.run_code(code, result,  async_=asy)):\n",
      "  File \"C:\\Users\\Ahaji Kelechi\\anaconda3\\lib\\site-packages\\IPython\\core\\interactiveshell.py\", line 3457, in run_code\n",
      "    exec(code_obj, self.user_global_ns, self.user_ns)\n",
      "  File \"C:\\Users\\Ahaji Kelechi\\AppData\\Local\\Temp\\ipykernel_12996\\1840293101.py\", line 3, in <module>\n",
      "    import pandas as pd\n",
      "  File \"C:\\Users\\Ahaji Kelechi\\anaconda3\\lib\\site-packages\\pandas\\__init__.py\", line 80, in <module>\n",
      "    from pandas.core.api import (\n",
      "  File \"C:\\Users\\Ahaji Kelechi\\anaconda3\\lib\\site-packages\\pandas\\core\\api.py\", line 28, in <module>\n",
      "    from pandas.core.arrays import Categorical\n",
      "  File \"C:\\Users\\Ahaji Kelechi\\anaconda3\\lib\\site-packages\\pandas\\core\\arrays\\__init__.py\", line 1, in <module>\n",
      "    from pandas.core.arrays.arrow import ArrowExtensionArray\n",
      "  File \"C:\\Users\\Ahaji Kelechi\\anaconda3\\lib\\site-packages\\pandas\\core\\arrays\\arrow\\__init__.py\", line 5, in <module>\n",
      "    from pandas.core.arrays.arrow.array import ArrowExtensionArray\n",
      "  File \"C:\\Users\\Ahaji Kelechi\\anaconda3\\lib\\site-packages\\pandas\\core\\arrays\\arrow\\array.py\", line 64, in <module>\n",
      "    from pandas.core.arrays.masked import BaseMaskedArray\n",
      "  File \"C:\\Users\\Ahaji Kelechi\\anaconda3\\lib\\site-packages\\pandas\\core\\arrays\\masked.py\", line 60, in <module>\n",
      "    from pandas.core import (\n",
      "  File \"C:\\Users\\Ahaji Kelechi\\anaconda3\\lib\\site-packages\\pandas\\core\\nanops.py\", line 52, in <module>\n",
      "    bn = import_optional_dependency(\"bottleneck\", errors=\"warn\")\n",
      "  File \"C:\\Users\\Ahaji Kelechi\\anaconda3\\lib\\site-packages\\pandas\\compat\\_optional.py\", line 135, in import_optional_dependency\n",
      "    module = importlib.import_module(name)\n",
      "  File \"C:\\Users\\Ahaji Kelechi\\anaconda3\\lib\\importlib\\__init__.py\", line 127, in import_module\n",
      "    return _bootstrap._gcd_import(name[level:], package, level)\n",
      "  File \"C:\\Users\\Ahaji Kelechi\\anaconda3\\lib\\site-packages\\bottleneck\\__init__.py\", line 7, in <module>\n",
      "    from .move import (move_argmax, move_argmin, move_max, move_mean, move_median,\n"
     ]
    },
    {
     "ename": "AttributeError",
     "evalue": "_ARRAY_API not found",
     "output_type": "error",
     "traceback": [
      "\u001b[1;31m---------------------------------------------------------------------------\u001b[0m",
      "\u001b[1;31mAttributeError\u001b[0m                            Traceback (most recent call last)",
      "\u001b[1;31mAttributeError\u001b[0m: _ARRAY_API not found"
     ]
    },
    {
     "name": "stderr",
     "output_type": "stream",
     "text": [
      "\n",
      "A module that was compiled using NumPy 1.x cannot be run in\n",
      "NumPy 2.0.2 as it may crash. To support both 1.x and 2.x\n",
      "versions of NumPy, modules must be compiled with NumPy 2.0.\n",
      "Some module may need to rebuild instead e.g. with 'pybind11>=2.12'.\n",
      "\n",
      "If you are a user of the module, the easiest solution will be to\n",
      "downgrade to 'numpy<2' or try to upgrade the affected module.\n",
      "We expect that some modules will need time to support NumPy 2.\n",
      "\n",
      "Traceback (most recent call last):  File \"C:\\Users\\Ahaji Kelechi\\anaconda3\\lib\\runpy.py\", line 197, in _run_module_as_main\n",
      "    return _run_code(code, main_globals, None,\n",
      "  File \"C:\\Users\\Ahaji Kelechi\\anaconda3\\lib\\runpy.py\", line 87, in _run_code\n",
      "    exec(code, run_globals)\n",
      "  File \"C:\\Users\\Ahaji Kelechi\\anaconda3\\lib\\site-packages\\ipykernel_launcher.py\", line 17, in <module>\n",
      "    app.launch_new_instance()\n",
      "  File \"C:\\Users\\Ahaji Kelechi\\anaconda3\\lib\\site-packages\\traitlets\\config\\application.py\", line 846, in launch_instance\n",
      "    app.start()\n",
      "  File \"C:\\Users\\Ahaji Kelechi\\anaconda3\\lib\\site-packages\\ipykernel\\kernelapp.py\", line 712, in start\n",
      "    self.io_loop.start()\n",
      "  File \"C:\\Users\\Ahaji Kelechi\\anaconda3\\lib\\site-packages\\tornado\\platform\\asyncio.py\", line 199, in start\n",
      "    self.asyncio_loop.run_forever()\n",
      "  File \"C:\\Users\\Ahaji Kelechi\\anaconda3\\lib\\asyncio\\base_events.py\", line 601, in run_forever\n",
      "    self._run_once()\n",
      "  File \"C:\\Users\\Ahaji Kelechi\\anaconda3\\lib\\asyncio\\base_events.py\", line 1905, in _run_once\n",
      "    handle._run()\n",
      "  File \"C:\\Users\\Ahaji Kelechi\\anaconda3\\lib\\asyncio\\events.py\", line 80, in _run\n",
      "    self._context.run(self._callback, *self._args)\n",
      "  File \"C:\\Users\\Ahaji Kelechi\\anaconda3\\lib\\site-packages\\ipykernel\\kernelbase.py\", line 510, in dispatch_queue\n",
      "    await self.process_one()\n",
      "  File \"C:\\Users\\Ahaji Kelechi\\anaconda3\\lib\\site-packages\\ipykernel\\kernelbase.py\", line 499, in process_one\n",
      "    await dispatch(*args)\n",
      "  File \"C:\\Users\\Ahaji Kelechi\\anaconda3\\lib\\site-packages\\ipykernel\\kernelbase.py\", line 406, in dispatch_shell\n",
      "    await result\n",
      "  File \"C:\\Users\\Ahaji Kelechi\\anaconda3\\lib\\site-packages\\ipykernel\\kernelbase.py\", line 730, in execute_request\n",
      "    reply_content = await reply_content\n",
      "  File \"C:\\Users\\Ahaji Kelechi\\anaconda3\\lib\\site-packages\\ipykernel\\ipkernel.py\", line 390, in do_execute\n",
      "    res = shell.run_cell(code, store_history=store_history, silent=silent)\n",
      "  File \"C:\\Users\\Ahaji Kelechi\\anaconda3\\lib\\site-packages\\ipykernel\\zmqshell.py\", line 528, in run_cell\n",
      "    return super().run_cell(*args, **kwargs)\n",
      "  File \"C:\\Users\\Ahaji Kelechi\\anaconda3\\lib\\site-packages\\IPython\\core\\interactiveshell.py\", line 2914, in run_cell\n",
      "    result = self._run_cell(\n",
      "  File \"C:\\Users\\Ahaji Kelechi\\anaconda3\\lib\\site-packages\\IPython\\core\\interactiveshell.py\", line 2960, in _run_cell\n",
      "    return runner(coro)\n",
      "  File \"C:\\Users\\Ahaji Kelechi\\anaconda3\\lib\\site-packages\\IPython\\core\\async_helpers.py\", line 78, in _pseudo_sync_runner\n",
      "    coro.send(None)\n",
      "  File \"C:\\Users\\Ahaji Kelechi\\anaconda3\\lib\\site-packages\\IPython\\core\\interactiveshell.py\", line 3185, in run_cell_async\n",
      "    has_raised = await self.run_ast_nodes(code_ast.body, cell_name,\n",
      "  File \"C:\\Users\\Ahaji Kelechi\\anaconda3\\lib\\site-packages\\IPython\\core\\interactiveshell.py\", line 3377, in run_ast_nodes\n",
      "    if (await self.run_code(code, result,  async_=asy)):\n",
      "  File \"C:\\Users\\Ahaji Kelechi\\anaconda3\\lib\\site-packages\\IPython\\core\\interactiveshell.py\", line 3457, in run_code\n",
      "    exec(code_obj, self.user_global_ns, self.user_ns)\n",
      "  File \"C:\\Users\\Ahaji Kelechi\\AppData\\Local\\Temp\\ipykernel_12996\\1840293101.py\", line 4, in <module>\n",
      "    import matplotlib.pyplot as plt\n",
      "  File \"C:\\Users\\Ahaji Kelechi\\anaconda3\\lib\\site-packages\\matplotlib\\__init__.py\", line 109, in <module>\n",
      "    from . import _api, _version, cbook, docstring, rcsetup\n",
      "  File \"C:\\Users\\Ahaji Kelechi\\anaconda3\\lib\\site-packages\\matplotlib\\rcsetup.py\", line 27, in <module>\n",
      "    from matplotlib.colors import Colormap, is_color_like\n",
      "  File \"C:\\Users\\Ahaji Kelechi\\anaconda3\\lib\\site-packages\\matplotlib\\colors.py\", line 56, in <module>\n",
      "    from matplotlib import _api, cbook, scale\n",
      "  File \"C:\\Users\\Ahaji Kelechi\\anaconda3\\lib\\site-packages\\matplotlib\\scale.py\", line 23, in <module>\n",
      "    from matplotlib.ticker import (\n",
      "  File \"C:\\Users\\Ahaji Kelechi\\anaconda3\\lib\\site-packages\\matplotlib\\ticker.py\", line 136, in <module>\n",
      "    from matplotlib import transforms as mtransforms\n",
      "  File \"C:\\Users\\Ahaji Kelechi\\anaconda3\\lib\\site-packages\\matplotlib\\transforms.py\", line 46, in <module>\n",
      "    from matplotlib._path import (\n"
     ]
    },
    {
     "ename": "AttributeError",
     "evalue": "_ARRAY_API not found",
     "output_type": "error",
     "traceback": [
      "\u001b[1;31m---------------------------------------------------------------------------\u001b[0m",
      "\u001b[1;31mAttributeError\u001b[0m                            Traceback (most recent call last)",
      "\u001b[1;31mAttributeError\u001b[0m: _ARRAY_API not found"
     ]
    },
    {
     "ename": "ImportError",
     "evalue": "numpy.core.multiarray failed to import",
     "output_type": "error",
     "traceback": [
      "\u001b[1;31m---------------------------------------------------------------------------\u001b[0m",
      "\u001b[1;31mImportError\u001b[0m                               Traceback (most recent call last)",
      "\u001b[1;32m~\\AppData\\Local\\Temp\\ipykernel_12996\\1840293101.py\u001b[0m in \u001b[0;36m<module>\u001b[1;34m\u001b[0m\n\u001b[0;32m      2\u001b[0m \u001b[1;32mimport\u001b[0m \u001b[0mnumpy\u001b[0m \u001b[1;32mas\u001b[0m \u001b[0mnp\u001b[0m\u001b[1;33m\u001b[0m\u001b[1;33m\u001b[0m\u001b[0m\n\u001b[0;32m      3\u001b[0m \u001b[1;32mimport\u001b[0m \u001b[0mpandas\u001b[0m \u001b[1;32mas\u001b[0m \u001b[0mpd\u001b[0m\u001b[1;33m\u001b[0m\u001b[1;33m\u001b[0m\u001b[0m\n\u001b[1;32m----> 4\u001b[1;33m \u001b[1;32mimport\u001b[0m \u001b[0mmatplotlib\u001b[0m\u001b[1;33m.\u001b[0m\u001b[0mpyplot\u001b[0m \u001b[1;32mas\u001b[0m \u001b[0mplt\u001b[0m\u001b[1;33m\u001b[0m\u001b[1;33m\u001b[0m\u001b[0m\n\u001b[0m\u001b[0;32m      5\u001b[0m \u001b[1;32mimport\u001b[0m \u001b[0mseaborn\u001b[0m \u001b[1;32mas\u001b[0m \u001b[0msns\u001b[0m\u001b[1;33m\u001b[0m\u001b[1;33m\u001b[0m\u001b[0m\n\u001b[0;32m      6\u001b[0m \u001b[1;32mfrom\u001b[0m \u001b[0msklearn\u001b[0m\u001b[1;33m.\u001b[0m\u001b[0mensemble\u001b[0m \u001b[1;32mimport\u001b[0m \u001b[0mRandomForestRegressor\u001b[0m\u001b[1;33m\u001b[0m\u001b[1;33m\u001b[0m\u001b[0m\n",
      "\u001b[1;32m~\\anaconda3\\lib\\site-packages\\matplotlib\\__init__.py\u001b[0m in \u001b[0;36m<module>\u001b[1;34m\u001b[0m\n\u001b[0;32m    107\u001b[0m \u001b[1;31m# cbook must import matplotlib only within function\u001b[0m\u001b[1;33m\u001b[0m\u001b[1;33m\u001b[0m\u001b[0m\n\u001b[0;32m    108\u001b[0m \u001b[1;31m# definitions, so it is safe to import from it here.\u001b[0m\u001b[1;33m\u001b[0m\u001b[1;33m\u001b[0m\u001b[0m\n\u001b[1;32m--> 109\u001b[1;33m \u001b[1;32mfrom\u001b[0m \u001b[1;33m.\u001b[0m \u001b[1;32mimport\u001b[0m \u001b[0m_api\u001b[0m\u001b[1;33m,\u001b[0m \u001b[0m_version\u001b[0m\u001b[1;33m,\u001b[0m \u001b[0mcbook\u001b[0m\u001b[1;33m,\u001b[0m \u001b[0mdocstring\u001b[0m\u001b[1;33m,\u001b[0m \u001b[0mrcsetup\u001b[0m\u001b[1;33m\u001b[0m\u001b[1;33m\u001b[0m\u001b[0m\n\u001b[0m\u001b[0;32m    110\u001b[0m \u001b[1;32mfrom\u001b[0m \u001b[0mmatplotlib\u001b[0m\u001b[1;33m.\u001b[0m\u001b[0mcbook\u001b[0m \u001b[1;32mimport\u001b[0m \u001b[0mMatplotlibDeprecationWarning\u001b[0m\u001b[1;33m,\u001b[0m \u001b[0msanitize_sequence\u001b[0m\u001b[1;33m\u001b[0m\u001b[1;33m\u001b[0m\u001b[0m\n\u001b[0;32m    111\u001b[0m \u001b[1;32mfrom\u001b[0m \u001b[0mmatplotlib\u001b[0m\u001b[1;33m.\u001b[0m\u001b[0mcbook\u001b[0m \u001b[1;32mimport\u001b[0m \u001b[0mmplDeprecation\u001b[0m  \u001b[1;31m# deprecated\u001b[0m\u001b[1;33m\u001b[0m\u001b[1;33m\u001b[0m\u001b[0m\n",
      "\u001b[1;32m~\\anaconda3\\lib\\site-packages\\matplotlib\\rcsetup.py\u001b[0m in \u001b[0;36m<module>\u001b[1;34m\u001b[0m\n\u001b[0;32m     25\u001b[0m \u001b[1;32mfrom\u001b[0m \u001b[0mmatplotlib\u001b[0m \u001b[1;32mimport\u001b[0m \u001b[0m_api\u001b[0m\u001b[1;33m,\u001b[0m \u001b[0mcbook\u001b[0m\u001b[1;33m\u001b[0m\u001b[1;33m\u001b[0m\u001b[0m\n\u001b[0;32m     26\u001b[0m \u001b[1;32mfrom\u001b[0m \u001b[0mmatplotlib\u001b[0m\u001b[1;33m.\u001b[0m\u001b[0mcbook\u001b[0m \u001b[1;32mimport\u001b[0m \u001b[0mls_mapper\u001b[0m\u001b[1;33m\u001b[0m\u001b[1;33m\u001b[0m\u001b[0m\n\u001b[1;32m---> 27\u001b[1;33m \u001b[1;32mfrom\u001b[0m \u001b[0mmatplotlib\u001b[0m\u001b[1;33m.\u001b[0m\u001b[0mcolors\u001b[0m \u001b[1;32mimport\u001b[0m \u001b[0mColormap\u001b[0m\u001b[1;33m,\u001b[0m \u001b[0mis_color_like\u001b[0m\u001b[1;33m\u001b[0m\u001b[1;33m\u001b[0m\u001b[0m\n\u001b[0m\u001b[0;32m     28\u001b[0m \u001b[1;32mfrom\u001b[0m \u001b[0mmatplotlib\u001b[0m\u001b[1;33m.\u001b[0m\u001b[0mfontconfig_pattern\u001b[0m \u001b[1;32mimport\u001b[0m \u001b[0mparse_fontconfig_pattern\u001b[0m\u001b[1;33m\u001b[0m\u001b[1;33m\u001b[0m\u001b[0m\n\u001b[0;32m     29\u001b[0m \u001b[1;32mfrom\u001b[0m \u001b[0mmatplotlib\u001b[0m\u001b[1;33m.\u001b[0m\u001b[0m_enums\u001b[0m \u001b[1;32mimport\u001b[0m \u001b[0mJoinStyle\u001b[0m\u001b[1;33m,\u001b[0m \u001b[0mCapStyle\u001b[0m\u001b[1;33m\u001b[0m\u001b[1;33m\u001b[0m\u001b[0m\n",
      "\u001b[1;32m~\\anaconda3\\lib\\site-packages\\matplotlib\\colors.py\u001b[0m in \u001b[0;36m<module>\u001b[1;34m\u001b[0m\n\u001b[0;32m     54\u001b[0m \u001b[1;32mimport\u001b[0m \u001b[0mmatplotlib\u001b[0m \u001b[1;32mas\u001b[0m \u001b[0mmpl\u001b[0m\u001b[1;33m\u001b[0m\u001b[1;33m\u001b[0m\u001b[0m\n\u001b[0;32m     55\u001b[0m \u001b[1;32mimport\u001b[0m \u001b[0mnumpy\u001b[0m \u001b[1;32mas\u001b[0m \u001b[0mnp\u001b[0m\u001b[1;33m\u001b[0m\u001b[1;33m\u001b[0m\u001b[0m\n\u001b[1;32m---> 56\u001b[1;33m \u001b[1;32mfrom\u001b[0m \u001b[0mmatplotlib\u001b[0m \u001b[1;32mimport\u001b[0m \u001b[0m_api\u001b[0m\u001b[1;33m,\u001b[0m \u001b[0mcbook\u001b[0m\u001b[1;33m,\u001b[0m \u001b[0mscale\u001b[0m\u001b[1;33m\u001b[0m\u001b[1;33m\u001b[0m\u001b[0m\n\u001b[0m\u001b[0;32m     57\u001b[0m \u001b[1;32mfrom\u001b[0m \u001b[1;33m.\u001b[0m\u001b[0m_color_data\u001b[0m \u001b[1;32mimport\u001b[0m \u001b[0mBASE_COLORS\u001b[0m\u001b[1;33m,\u001b[0m \u001b[0mTABLEAU_COLORS\u001b[0m\u001b[1;33m,\u001b[0m \u001b[0mCSS4_COLORS\u001b[0m\u001b[1;33m,\u001b[0m \u001b[0mXKCD_COLORS\u001b[0m\u001b[1;33m\u001b[0m\u001b[1;33m\u001b[0m\u001b[0m\n\u001b[0;32m     58\u001b[0m \u001b[1;33m\u001b[0m\u001b[0m\n",
      "\u001b[1;32m~\\anaconda3\\lib\\site-packages\\matplotlib\\scale.py\u001b[0m in \u001b[0;36m<module>\u001b[1;34m\u001b[0m\n\u001b[0;32m     21\u001b[0m \u001b[1;32mimport\u001b[0m \u001b[0mmatplotlib\u001b[0m \u001b[1;32mas\u001b[0m \u001b[0mmpl\u001b[0m\u001b[1;33m\u001b[0m\u001b[1;33m\u001b[0m\u001b[0m\n\u001b[0;32m     22\u001b[0m \u001b[1;32mfrom\u001b[0m \u001b[0mmatplotlib\u001b[0m \u001b[1;32mimport\u001b[0m \u001b[0m_api\u001b[0m\u001b[1;33m,\u001b[0m \u001b[0mdocstring\u001b[0m\u001b[1;33m\u001b[0m\u001b[1;33m\u001b[0m\u001b[0m\n\u001b[1;32m---> 23\u001b[1;33m from matplotlib.ticker import (\n\u001b[0m\u001b[0;32m     24\u001b[0m     \u001b[0mNullFormatter\u001b[0m\u001b[1;33m,\u001b[0m \u001b[0mScalarFormatter\u001b[0m\u001b[1;33m,\u001b[0m \u001b[0mLogFormatterSciNotation\u001b[0m\u001b[1;33m,\u001b[0m \u001b[0mLogitFormatter\u001b[0m\u001b[1;33m,\u001b[0m\u001b[1;33m\u001b[0m\u001b[1;33m\u001b[0m\u001b[0m\n\u001b[0;32m     25\u001b[0m     \u001b[0mNullLocator\u001b[0m\u001b[1;33m,\u001b[0m \u001b[0mLogLocator\u001b[0m\u001b[1;33m,\u001b[0m \u001b[0mAutoLocator\u001b[0m\u001b[1;33m,\u001b[0m \u001b[0mAutoMinorLocator\u001b[0m\u001b[1;33m,\u001b[0m\u001b[1;33m\u001b[0m\u001b[1;33m\u001b[0m\u001b[0m\n",
      "\u001b[1;32m~\\anaconda3\\lib\\site-packages\\matplotlib\\ticker.py\u001b[0m in \u001b[0;36m<module>\u001b[1;34m\u001b[0m\n\u001b[0;32m    134\u001b[0m \u001b[1;32mimport\u001b[0m \u001b[0mmatplotlib\u001b[0m \u001b[1;32mas\u001b[0m \u001b[0mmpl\u001b[0m\u001b[1;33m\u001b[0m\u001b[1;33m\u001b[0m\u001b[0m\n\u001b[0;32m    135\u001b[0m \u001b[1;32mfrom\u001b[0m \u001b[0mmatplotlib\u001b[0m \u001b[1;32mimport\u001b[0m \u001b[0m_api\u001b[0m\u001b[1;33m,\u001b[0m \u001b[0mcbook\u001b[0m\u001b[1;33m\u001b[0m\u001b[1;33m\u001b[0m\u001b[0m\n\u001b[1;32m--> 136\u001b[1;33m \u001b[1;32mfrom\u001b[0m \u001b[0mmatplotlib\u001b[0m \u001b[1;32mimport\u001b[0m \u001b[0mtransforms\u001b[0m \u001b[1;32mas\u001b[0m \u001b[0mmtransforms\u001b[0m\u001b[1;33m\u001b[0m\u001b[1;33m\u001b[0m\u001b[0m\n\u001b[0m\u001b[0;32m    137\u001b[0m \u001b[1;33m\u001b[0m\u001b[0m\n\u001b[0;32m    138\u001b[0m \u001b[0m_log\u001b[0m \u001b[1;33m=\u001b[0m \u001b[0mlogging\u001b[0m\u001b[1;33m.\u001b[0m\u001b[0mgetLogger\u001b[0m\u001b[1;33m(\u001b[0m\u001b[0m__name__\u001b[0m\u001b[1;33m)\u001b[0m\u001b[1;33m\u001b[0m\u001b[1;33m\u001b[0m\u001b[0m\n",
      "\u001b[1;32m~\\anaconda3\\lib\\site-packages\\matplotlib\\transforms.py\u001b[0m in \u001b[0;36m<module>\u001b[1;34m\u001b[0m\n\u001b[0;32m     44\u001b[0m \u001b[1;33m\u001b[0m\u001b[0m\n\u001b[0;32m     45\u001b[0m \u001b[1;32mfrom\u001b[0m \u001b[0mmatplotlib\u001b[0m \u001b[1;32mimport\u001b[0m \u001b[0m_api\u001b[0m\u001b[1;33m\u001b[0m\u001b[1;33m\u001b[0m\u001b[0m\n\u001b[1;32m---> 46\u001b[1;33m from matplotlib._path import (\n\u001b[0m\u001b[0;32m     47\u001b[0m     affine_transform, count_bboxes_overlapping_bbox, update_path_extents)\n\u001b[0;32m     48\u001b[0m \u001b[1;32mfrom\u001b[0m \u001b[1;33m.\u001b[0m\u001b[0mpath\u001b[0m \u001b[1;32mimport\u001b[0m \u001b[0mPath\u001b[0m\u001b[1;33m\u001b[0m\u001b[1;33m\u001b[0m\u001b[0m\n",
      "\u001b[1;31mImportError\u001b[0m: numpy.core.multiarray failed to import"
     ]
    }
   ],
   "source": [
    "# Import libraries\n",
    "import numpy as np\n",
    "import pandas as pd\n",
    "import matplotlib.pyplot as plt\n",
    "import seaborn as sns\n",
    "from sklearn.ensemble import RandomForestRegressor\n",
    "from sklearn.pipeline import Pipeline\n",
    "from sklearn.decomposition import PCA\n",
    "from sklearn.preprocessing import OneHotEncoder, StandardScaler, FunctionTransformer\n",
    "from sklearn.model_selection import train_test_split, GridSearchCV\n",
    "from sklearn.compose import ColumnTransformer\n",
    "from sklearn.metrics import mean_squared_error\n",
    "from scipy.stats import skew"
   ]
  },
  {
   "cell_type": "markdown",
   "id": "49359935-8084-4833-abcd-10621d39a4c7",
   "metadata": {
    "id": "49359935-8084-4833-abcd-10621d39a4c7"
   },
   "source": [
    "### Loading dataset"
   ]
  },
  {
   "cell_type": "code",
   "execution_count": null,
   "id": "f57b8bc5-2464-44fc-8f88-cfe33ae7abe5",
   "metadata": {
    "id": "f57b8bc5-2464-44fc-8f88-cfe33ae7abe5"
   },
   "outputs": [],
   "source": [
    "# Load data\n",
    "train = pd.read_csv(\"Train.csv\")\n",
    "test = pd.read_csv(\"test.csv\")\n",
    "sample_submission = pd.read_csv(\"SampleSubmission.csv\")"
   ]
  },
  {
   "cell_type": "markdown",
   "id": "9b8d105c-846d-457e-9e84-89db26291197",
   "metadata": {
    "id": "9b8d105c-846d-457e-9e84-89db26291197"
   },
   "source": [
    "### Quick Look\n",
    "Taking an initial look on the dataset to understand structure."
   ]
  },
  {
   "cell_type": "code",
   "execution_count": null,
   "id": "b98069c0-32d8-4977-8d98-5a7bc40e2349",
   "metadata": {
    "id": "b98069c0-32d8-4977-8d98-5a7bc40e2349"
   },
   "outputs": [],
   "source": [
    "train.head(3)"
   ]
  },
  {
   "cell_type": "code",
   "execution_count": null,
   "id": "9d032ee2-a44d-448c-ae70-336a00439df3",
   "metadata": {
    "id": "9d032ee2-a44d-448c-ae70-336a00439df3"
   },
   "outputs": [],
   "source": [
    "test.head(3)"
   ]
  },
  {
   "cell_type": "code",
   "execution_count": null,
   "id": "a3ed0872-4870-41a9-843a-53323d9c2e83",
   "metadata": {
    "id": "a3ed0872-4870-41a9-843a-53323d9c2e83"
   },
   "outputs": [],
   "source": [
    "# Descriptive statistic of the train dataset\n",
    "train.describe()"
   ]
  },
  {
   "cell_type": "markdown",
   "id": "88844bcd-0197-4173-be9f-a60c440a7c93",
   "metadata": {
    "id": "88844bcd-0197-4173-be9f-a60c440a7c93"
   },
   "source": [
    "From the above, we can understand that we have about 7307 samples in our train dataset."
   ]
  },
  {
   "cell_type": "markdown",
   "id": "587e0755-4711-4f0a-ac8f-8c303884c454",
   "metadata": {
    "id": "587e0755-4711-4f0a-ac8f-8c303884c454"
   },
   "source": [
    "### Exploratory Data Analysis"
   ]
  },
  {
   "cell_type": "code",
   "execution_count": null,
   "id": "fa0d5d93-5c3f-43d8-8897-b834fae155a8",
   "metadata": {
    "id": "fa0d5d93-5c3f-43d8-8897-b834fae155a8"
   },
   "outputs": [],
   "source": [
    "train.info()"
   ]
  },
  {
   "cell_type": "code",
   "execution_count": null,
   "id": "51ec5b38-e08d-45c7-9f34-6556285266e6",
   "metadata": {
    "id": "51ec5b38-e08d-45c7-9f34-6556285266e6"
   },
   "outputs": [],
   "source": [
    "train.set_index(\"ID\", inplace = True)"
   ]
  },
  {
   "cell_type": "markdown",
   "id": "d6f095fc-28e9-43ba-a7e5-176d071a4682",
   "metadata": {
    "id": "d6f095fc-28e9-43ba-a7e5-176d071a4682"
   },
   "source": [
    "From the above we can observe the absence of null values in the features. But for one of the columns; the `device_name` feature might not be represented in the right data type"
   ]
  },
  {
   "cell_type": "code",
   "execution_count": null,
   "id": "ea1fe72c-41cd-4ed8-be7c-8526bb7f9eae",
   "metadata": {
    "id": "ea1fe72c-41cd-4ed8-be7c-8526bb7f9eae"
   },
   "outputs": [],
   "source": [
    "print(train[\"device_name\"].nunique())\n",
    "print(train[\"device_name\"].unique())"
   ]
  },
  {
   "cell_type": "markdown",
   "id": "ad4e1dde-8771-4ba8-8e08-9e3bd4dac3c0",
   "metadata": {
    "id": "ad4e1dde-8771-4ba8-8e08-9e3bd4dac3c0"
   },
   "source": [
    "The `device_name` feature should be more of a category data type instead of object."
   ]
  },
  {
   "cell_type": "code",
   "execution_count": null,
   "id": "66313e3a-c7e4-4b21-9231-bf9fc7030cdc",
   "metadata": {
    "id": "66313e3a-c7e4-4b21-9231-bf9fc7030cdc"
   },
   "outputs": [],
   "source": [
    "# Change the data type from `object` to `category` data type\n",
    "train[\"device_name\"] = train[\"device_name\"].astype(\"category\")"
   ]
  },
  {
   "cell_type": "code",
   "execution_count": null,
   "id": "74ec562f-f73c-48ed-af67-883ea3ad8845",
   "metadata": {
    "id": "74ec562f-f73c-48ed-af67-883ea3ad8845"
   },
   "outputs": [],
   "source": [
    "train.info()"
   ]
  },
  {
   "cell_type": "markdown",
   "id": "23272193-58c5-4ede-ab6d-6ba89f20523a",
   "metadata": {
    "id": "23272193-58c5-4ede-ab6d-6ba89f20523a"
   },
   "source": [
    "### Understanding the distribution of train dataset"
   ]
  },
  {
   "cell_type": "code",
   "execution_count": null,
   "id": "1068b016-0136-4369-af35-eb6ab390b3f4",
   "metadata": {
    "id": "1068b016-0136-4369-af35-eb6ab390b3f4"
   },
   "outputs": [],
   "source": [
    "# Utilizing skew module of the scipy library\n",
    "skewness_value = skew(train.select_dtypes(include=[\"number\"]))\n",
    "Skewness = list(zip(train.select_dtypes(include = [\"number\"]).columns, skewness_value))\n",
    "for col, skewness_value in Skewness:\n",
    "    print(f'Skewness of {col} : {skewness_value:.2f}')"
   ]
  },
  {
   "cell_type": "code",
   "execution_count": null,
   "id": "6138a1cf-0743-463b-9eab-95673e83ee42",
   "metadata": {
    "id": "6138a1cf-0743-463b-9eab-95673e83ee42"
   },
   "outputs": [],
   "source": [
    "# Visualizing to understand skewness\n",
    "# Set plot style\n",
    "sns.set_style(\"whitegrid\")\n",
    "\n",
    "# create histograms for each numeric column\n",
    "fig, ax = plt.subplots(nrows= 3, ncols= 3, figsize =(15,10))\n",
    "ax = ax.flatten()\n",
    "\n",
    "for i, col in enumerate(train.select_dtypes(include=[\"number\"]).columns):\n",
    "    sns.histplot(train[col], bins = 10, kde = True, ax = ax[i], color = 'blue')\n",
    "    ax[i].set_title(f'Histogram of {col}')\n",
    "    ax[i].set_xlabel(col)\n",
    "    ax[i].set_ylabel(\"Frequency\")\n",
    "\n",
    "plt.tight_layout();"
   ]
  },
  {
   "cell_type": "markdown",
   "id": "7d0fc134-89b2-4c44-8765-18aecbf973a3",
   "metadata": {
    "id": "7d0fc134-89b2-4c44-8765-18aecbf973a3"
   },
   "source": [
    "> Based on the above plot and skewness values, we can comment that the dataset is quite normally distributed."
   ]
  },
  {
   "cell_type": "markdown",
   "id": "f363798b-8f9f-4656-b9fa-74c6007c6af0",
   "metadata": {
    "id": "f363798b-8f9f-4656-b9fa-74c6007c6af0"
   },
   "source": [
    "### Understanding the nature of relationship between features.\n",
    "This is to help avoid multicollinearity."
   ]
  },
  {
   "cell_type": "code",
   "execution_count": null,
   "id": "475e1a42-0055-41d6-9df6-9de2127d58f0",
   "metadata": {
    "id": "475e1a42-0055-41d6-9df6-9de2127d58f0"
   },
   "outputs": [],
   "source": [
    "# Using seabon pairplot\n",
    "sns.pairplot(train);"
   ]
  },
  {
   "cell_type": "code",
   "execution_count": null,
   "id": "9e5ec5e0-e822-49c1-b8d2-dd508883dcb9",
   "metadata": {
    "id": "9e5ec5e0-e822-49c1-b8d2-dd508883dcb9"
   },
   "outputs": [],
   "source": [
    "# Using heatmap to understand correlation\n",
    "plt.figure(figsize = (15,10))\n",
    "sns.heatmap(train.drop(\"device_name\", axis = 1).corr(), annot = True)\n",
    "plt.title(\"Correlation Heatmap\")\n",
    "plt.show()"
   ]
  },
  {
   "cell_type": "markdown",
   "id": "e5a2d515-27a8-4564-b363-8cf3a7ba3782",
   "metadata": {
    "id": "e5a2d515-27a8-4564-b363-8cf3a7ba3782"
   },
   "source": [
    "### Feature Engineering, Selection and Preprocessing\n",
    "Based on the above, we have instances of multicollinearity this requires us to drop certain features before model building, but we will not drop these features. An algorithm that penalizes multicollineraity will be utilized."
   ]
  },
  {
   "cell_type": "code",
   "execution_count": null,
   "id": "kMYGBuKkaGc6",
   "metadata": {
    "id": "kMYGBuKkaGc6"
   },
   "outputs": [],
   "source": [
    "# Feature Engineering\n",
    "# Create Heat Index Feature\n",
    "train[\"Heat_Index\"] = train[\"Temperature\"] + (0.55 - 0.0055 * train[\"Humidity\"]) * (train[\"Temperature\"] - 14.5)"
   ]
  },
  {
   "cell_type": "code",
   "execution_count": null,
   "id": "f0713252-d849-414c-9302-5615a51390b4",
   "metadata": {
    "id": "f0713252-d849-414c-9302-5615a51390b4"
   },
   "outputs": [],
   "source": [
    "# Feature selection and preprocessing\n",
    "features = train.drop(\"CO2\", axis = 1).columns\n",
    "target =  'CO2'"
   ]
  },
  {
   "cell_type": "code",
   "execution_count": null,
   "id": "a3d5c2ee-64e6-4d40-be57-1c2ce5cc53e8",
   "metadata": {
    "id": "a3d5c2ee-64e6-4d40-be57-1c2ce5cc53e8"
   },
   "outputs": [],
   "source": [
    "X = train[features]\n",
    "y = train[target]"
   ]
  },
  {
   "cell_type": "code",
   "execution_count": null,
   "id": "a5cef550-9442-4d1b-b879-431754b991b0",
   "metadata": {
    "id": "a5cef550-9442-4d1b-b879-431754b991b0"
   },
   "outputs": [],
   "source": [
    "# Feature transformation\n",
    "numerical_cols = X.select_dtypes(include=[\"number\"]).columns\n",
    "categorical_col = X.columns.drop(numerical_cols)\n",
    "\n",
    "# Log Transformation (for positive skewness)\n",
    "log_transformer = FunctionTransformer(lambda x: np.log1p(x), validate=False)\n",
    "\n",
    "# Squared Transformation (for negative skewness)\n",
    "squared_transformer = FunctionTransformer(lambda x: x**2, validate=False)\n",
    "\n",
    "# Standardization\n",
    "scaler = StandardScaler()\n",
    "\n",
    "# One-Hot Encoding for Categorical features\n",
    "encoder = OneHotEncoder(handle_unknown='ignore')\n",
    "\n",
    "# PCA for dimensionality reduction\n",
    "pca = PCA(n_components = 6)\n",
    "\n",
    "# Column Transfprmer to apply transformation\n",
    "preprocessor = ColumnTransformer([\n",
    "    (\"log\", log_transformer, [\"MG811_analog\", \"MQ9_analog\",\"Humidity\",\"MQ7_analog\"]),  # Apply log transformation to positively skewed features\n",
    "    (\"square\", squared_transformer, [\"MQ135_analog\",\"Temperature\"]),  # Apply squared transformation to negatively skewed features\n",
    "    (\"scale\", scaler, numerical_cols),  # Standardization for all numeric features\n",
    "    (\"one_hot\", encoder, categorical_col),  # One-Hot Encoding\n",
    "])\n",
    "\n",
    "# Create a Pipeline\n",
    "pipeline = Pipeline([\n",
    "    (\"preprocessor\", preprocessor),\n",
    "    (\"pca\", pca)\n",
    "])\n",
    "\n",
    "# Apply Transformations\n",
    "X_processed = pipeline.fit_transform(X)\n",
    "\n",
    "# Convert to DataFrame for easy viewing\n",
    "X_processed = pd.DataFrame(X_processed)\n",
    "X_processed\n"
   ]
  },
  {
   "cell_type": "code",
   "execution_count": null,
   "id": "Qg5TzHWZjH27",
   "metadata": {
    "id": "Qg5TzHWZjH27"
   },
   "outputs": [],
   "source": [
    "# Data Splitting\n",
    "X_train, X_val, y_train, y_val = train_test_split(X_processed, y, test_size=0.2, random_state=42)"
   ]
  },
  {
   "cell_type": "markdown",
   "id": "80d4cd02-2727-4e42-853c-f859e0b25207",
   "metadata": {
    "id": "80d4cd02-2727-4e42-853c-f859e0b25207"
   },
   "source": [
    "### Model Training"
   ]
  },
  {
   "cell_type": "code",
   "execution_count": null,
   "id": "3d7552d6-bfa3-4dc3-8c6d-64045a96018f",
   "metadata": {
    "id": "3d7552d6-bfa3-4dc3-8c6d-64045a96018f"
   },
   "outputs": [],
   "source": [
    "# Model Training:Deep Learning Model\n",
    "reg_model = RandomForestRegressor(n_estimators = 600, max_depth = 10\n",
    "                                  , min_samples_split = 2, min_samples_leaf = 2,\n",
    "                                  max_features = \"sqrt\", bootstrap = True)\n",
    "reg_model.fit(X_train, y_train)"
   ]
  },
  {
   "cell_type": "code",
   "execution_count": null,
   "id": "00697465-d2ab-43d6-b25c-b9aa76034633",
   "metadata": {
    "id": "00697465-d2ab-43d6-b25c-b9aa76034633"
   },
   "outputs": [],
   "source": [
    "# Predicting\n",
    "y_val_pred = reg_model.predict(X_val)\n",
    "\n",
    "# Evaluating\n",
    "RMSE = np.sqrt(mean_squared_error(y_val, y_val_pred))\n",
    "print(f'Validation RMSE: {RMSE:.2f}')"
   ]
  },
  {
   "cell_type": "code",
   "execution_count": null,
   "id": "oCDvfvCvqpAT",
   "metadata": {
    "id": "oCDvfvCvqpAT"
   },
   "outputs": [],
   "source": [
    "reg_model_ = GradientBoostingRegressor(n_estimators = 100,learning_rate = 0.1,\n",
    "                                       max_depth = 7, min_samples_split = 5,\n",
    "                                       min_samples_leaf = 4, subsample = 0.8, max_features = \"sqrt\")\n",
    "reg_model_.fit(X_train, y_train)\n",
    "\n",
    "# Predicting\n",
    "y_val_pred_ = reg_model_.predict(X_val)\n",
    "\n",
    "# Evaluating\n",
    "RMSE = np.sqrt(mean_squared_error(y_val, y_val_pred_))\n",
    "print(f'Validation RMSE: {RMSE:.2f}')"
   ]
  },
  {
   "cell_type": "code",
   "execution_count": null,
   "id": "nhMTtFvHqPjt",
   "metadata": {
    "id": "nhMTtFvHqPjt"
   },
   "outputs": [],
   "source": [
    "# Create the Heat Index feature in the test data\n",
    "test[\"Heat_Index\"] = test[\"Temperature\"] + (0.55 - 0.0055 * test[\"Humidity\"]) * (test[\"Temperature\"] - 14.5)"
   ]
  },
  {
   "cell_type": "code",
   "execution_count": null,
   "id": "CDxozEOzITZI",
   "metadata": {
    "id": "CDxozEOzITZI"
   },
   "outputs": [],
   "source": [
    "# Test predictions\n",
    "test_features = pipeline.fit_transform(test[features])\n",
    "test_predictions = reg_model.predict(test_features)"
   ]
  },
  {
   "cell_type": "code",
   "execution_count": null,
   "id": "U_vXDLSFITPf",
   "metadata": {
    "id": "U_vXDLSFITPf"
   },
   "outputs": [],
   "source": [
    "# Prepare submission\n",
    "sample_submission['CO2'] = test_predictions\n",
    "sample_submission.to_csv('submission.csv', index=False)\n",
    "print(\"Submission file saved as 'submission.csv'\")"
   ]
  }
 ],
 "metadata": {
  "accelerator": "GPU",
  "colab": {
   "gpuType": "T4",
   "provenance": []
  },
  "kernelspec": {
   "display_name": "Python 3 (ipykernel)",
   "language": "python",
   "name": "python3"
  },
  "language_info": {
   "codemirror_mode": {
    "name": "ipython",
    "version": 3
   },
   "file_extension": ".py",
   "mimetype": "text/x-python",
   "name": "python",
   "nbconvert_exporter": "python",
   "pygments_lexer": "ipython3",
   "version": "3.9.13"
  }
 },
 "nbformat": 4,
 "nbformat_minor": 5
}
