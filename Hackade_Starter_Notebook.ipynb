{
  "cells": [
    {
      "cell_type": "markdown",
      "metadata": {
        "id": "eMlx7LASDZO2"
      },
      "source": [
        "# 📊 Air Quality Prediction Starter Notebook 🌱 - By Hackade\n",
        "\n",
        "![Hackade.png](attachment:Hackade.png)\n",
        "\n",
        "Welcome to the **Air Quality Prediction Competition**! This starter notebook is designed to help you kick off your journey with ease. Here's what you'll find:\n",
        "\n",
        "- **Data Exploration**: Understand the train and test datasets 📈.\n",
        "- **Feature Engineering**: Identify and select relevant features 🔍.\n",
        "- **Baseline Modeling**: Train a Random Forest model to predict CO2 levels 🌳.\n",
        "- **Submission**: Generate predictions and create a submission file 📤.\n",
        "\n",
        "Feel free to build on this foundation, explore new models, and unleash your creativity. Good luck! 🚀\n"
      ]
    },
    {
      "cell_type": "markdown",
      "metadata": {
        "id": "yO9pfD93DZO7"
      },
      "source": [
        "## 📦 Importing Libraries 🛠️\n",
        "\n",
        "In this section, we import the essential libraries needed for data analysis, visualization, and modeling:\n",
        "\n",
        "- **`pandas`**: For data manipulation and analysis 🐼.\n",
        "- **`numpy`**: For numerical computations 🔢.\n",
        "- **`matplotlib.pyplot`**: To create static, interactive, and publication-quality visualizations 📊.\n",
        "- **`seaborn`**: For beautiful and informative statistical graphics 🎨.\n",
        "- **`sklearn.model_selection`**: To split the data into training and validation sets 🎯.\n",
        "- **`sklearn.ensemble.RandomForestRegressor`**: A robust machine learning algorithm for regression tasks 🌳.\n",
        "- **`sklearn.metrics.mean_squared_error`**: To evaluate the performance of our model using RMSE 📏.\n",
        "\n",
        "These libraries form the backbone of our analysis and modeling pipeline. Let's get started! 🚀\n"
      ]
    },
    {
      "cell_type": "code",
      "execution_count": null,
      "metadata": {
        "id": "8Gh_Om_XDZO8"
      },
      "outputs": [],
      "source": [
        "import pandas as pd\n",
        "import numpy as np\n",
        "import matplotlib.pyplot as plt\n",
        "import seaborn as sns\n",
        "from sklearn.model_selection import train_test_split\n",
        "from sklearn.ensemble import RandomForestRegressor\n",
        "from sklearn.metrics import mean_squared_error"
      ]
    },
    {
      "cell_type": "markdown",
      "metadata": {
        "id": "pmL9Z8JNDZO-"
      },
      "source": [
        "## 📂 Loading the Data 📥\n",
        "\n",
        "Here, we load the competition datasets into our notebook:\n",
        "\n",
        "- **`train_data`**: Contains the training dataset, including features and the target variable (CO2 levels) 📝.\n",
        "- **`test_data`**: Includes the test dataset for which we need to make predictions 🔍.\n",
        "- **`sample_submission`**: Provides the required format for submitting predictions 📤.\n",
        "\n",
        "By loading these datasets, we set the foundation for our analysis and modeling process. Time to dive in! 🌊\n"
      ]
    },
    {
      "cell_type": "code",
      "execution_count": null,
      "metadata": {
        "id": "96MTbHYmDZO-"
      },
      "outputs": [],
      "source": [
        "# Load data\n",
        "train_data = pd.read_csv(\"train.csv\")\n",
        "test_data = pd.read_csv(\"test.csv\")\n",
        "sample_submission = pd.read_csv(\"SampleSubmission.csv\")\n"
      ]
    },
    {
      "cell_type": "markdown",
      "metadata": {
        "id": "bJOFQeCRDZO_"
      },
      "source": [
        "## 🔍 Quick Peek at Training Data 🧐\n",
        "\n",
        "We take an initial look at the **training dataset** to understand its structure and contents:\n",
        "\n",
        "- **`train_data.head()`**: Displays the first few rows of the dataset 📝.\n"
      ]
    },
    {
      "cell_type": "code",
      "execution_count": null,
      "metadata": {
        "id": "x4U2Fb_xDZO_",
        "outputId": "4809af84-da82-4b33-cb15-246da71fc6e0"
      },
      "outputs": [
        {
          "name": "stdout",
          "output_type": "stream",
          "text": [
            "Train Data Overview:\n",
            "\n"
          ]
        },
        {
          "data": {
            "text/html": [
              "<div>\n",
              "<style scoped>\n",
              "    .dataframe tbody tr th:only-of-type {\n",
              "        vertical-align: middle;\n",
              "    }\n",
              "\n",
              "    .dataframe tbody tr th {\n",
              "        vertical-align: top;\n",
              "    }\n",
              "\n",
              "    .dataframe thead th {\n",
              "        text-align: right;\n",
              "    }\n",
              "</style>\n",
              "<table border=\"1\" class=\"dataframe\">\n",
              "  <thead>\n",
              "    <tr style=\"text-align: right;\">\n",
              "      <th></th>\n",
              "      <th>ID</th>\n",
              "      <th>Temperature</th>\n",
              "      <th>Humidity</th>\n",
              "      <th>MQ7_analog</th>\n",
              "      <th>MQ9_analog</th>\n",
              "      <th>MG811_analog</th>\n",
              "      <th>MQ135_analog</th>\n",
              "      <th>device_name</th>\n",
              "      <th>CO2</th>\n",
              "    </tr>\n",
              "  </thead>\n",
              "  <tbody>\n",
              "    <tr>\n",
              "      <th>0</th>\n",
              "      <td>ID_000001</td>\n",
              "      <td>28.975</td>\n",
              "      <td>74.475</td>\n",
              "      <td>2480.0</td>\n",
              "      <td>3476.5</td>\n",
              "      <td>1572.0</td>\n",
              "      <td>1997.0</td>\n",
              "      <td>alpha</td>\n",
              "      <td>585.75</td>\n",
              "    </tr>\n",
              "    <tr>\n",
              "      <th>1</th>\n",
              "      <td>ID_000002</td>\n",
              "      <td>31.900</td>\n",
              "      <td>66.500</td>\n",
              "      <td>3813.0</td>\n",
              "      <td>2726.0</td>\n",
              "      <td>4145.0</td>\n",
              "      <td>3180.0</td>\n",
              "      <td>alpha</td>\n",
              "      <td>613.00</td>\n",
              "    </tr>\n",
              "    <tr>\n",
              "      <th>2</th>\n",
              "      <td>ID_000003</td>\n",
              "      <td>31.675</td>\n",
              "      <td>60.015</td>\n",
              "      <td>2811.0</td>\n",
              "      <td>1563.5</td>\n",
              "      <td>4250.0</td>\n",
              "      <td>2708.5</td>\n",
              "      <td>alpha</td>\n",
              "      <td>616.50</td>\n",
              "    </tr>\n",
              "    <tr>\n",
              "      <th>3</th>\n",
              "      <td>ID_000004</td>\n",
              "      <td>31.580</td>\n",
              "      <td>59.220</td>\n",
              "      <td>2844.0</td>\n",
              "      <td>1597.0</td>\n",
              "      <td>4310.0</td>\n",
              "      <td>2723.0</td>\n",
              "      <td>alpha</td>\n",
              "      <td>642.50</td>\n",
              "    </tr>\n",
              "    <tr>\n",
              "      <th>4</th>\n",
              "      <td>ID_000005</td>\n",
              "      <td>31.690</td>\n",
              "      <td>62.030</td>\n",
              "      <td>3159.5</td>\n",
              "      <td>1120.5</td>\n",
              "      <td>5519.5</td>\n",
              "      <td>1219.0</td>\n",
              "      <td>alpha</td>\n",
              "      <td>622.00</td>\n",
              "    </tr>\n",
              "  </tbody>\n",
              "</table>\n",
              "</div>"
            ],
            "text/plain": [
              "          ID  Temperature  Humidity  MQ7_analog  MQ9_analog  MG811_analog  \\\n",
              "0  ID_000001       28.975    74.475      2480.0      3476.5        1572.0   \n",
              "1  ID_000002       31.900    66.500      3813.0      2726.0        4145.0   \n",
              "2  ID_000003       31.675    60.015      2811.0      1563.5        4250.0   \n",
              "3  ID_000004       31.580    59.220      2844.0      1597.0        4310.0   \n",
              "4  ID_000005       31.690    62.030      3159.5      1120.5        5519.5   \n",
              "\n",
              "   MQ135_analog device_name     CO2  \n",
              "0        1997.0       alpha  585.75  \n",
              "1        3180.0       alpha  613.00  \n",
              "2        2708.5       alpha  616.50  \n",
              "3        2723.0       alpha  642.50  \n",
              "4        1219.0       alpha  622.00  "
            ]
          },
          "execution_count": 3,
          "metadata": {},
          "output_type": "execute_result"
        }
      ],
      "source": [
        "print(\"Train Data Overview:\\n\")\n",
        "train_data.head()"
      ]
    },
    {
      "cell_type": "code",
      "execution_count": null,
      "metadata": {
        "id": "FIz0EIt0DZPB",
        "outputId": "5cd4d657-4596-4e0b-9b08-1690569c0d9f"
      },
      "outputs": [
        {
          "name": "stdout",
          "output_type": "stream",
          "text": [
            "Test Data Overview:\n",
            "\n"
          ]
        },
        {
          "data": {
            "text/html": [
              "<div>\n",
              "<style scoped>\n",
              "    .dataframe tbody tr th:only-of-type {\n",
              "        vertical-align: middle;\n",
              "    }\n",
              "\n",
              "    .dataframe tbody tr th {\n",
              "        vertical-align: top;\n",
              "    }\n",
              "\n",
              "    .dataframe thead th {\n",
              "        text-align: right;\n",
              "    }\n",
              "</style>\n",
              "<table border=\"1\" class=\"dataframe\">\n",
              "  <thead>\n",
              "    <tr style=\"text-align: right;\">\n",
              "      <th></th>\n",
              "      <th>ID</th>\n",
              "      <th>Temperature</th>\n",
              "      <th>Humidity</th>\n",
              "      <th>MQ7_analog</th>\n",
              "      <th>MQ9_analog</th>\n",
              "      <th>MG811_analog</th>\n",
              "      <th>MQ135_analog</th>\n",
              "      <th>device_name</th>\n",
              "    </tr>\n",
              "  </thead>\n",
              "  <tbody>\n",
              "    <tr>\n",
              "      <th>0</th>\n",
              "      <td>ID_007308</td>\n",
              "      <td>32.450</td>\n",
              "      <td>59.990</td>\n",
              "      <td>3504.0</td>\n",
              "      <td>1380.0</td>\n",
              "      <td>2642.5</td>\n",
              "      <td>1637.0</td>\n",
              "      <td>alpha</td>\n",
              "    </tr>\n",
              "    <tr>\n",
              "      <th>1</th>\n",
              "      <td>ID_007309</td>\n",
              "      <td>31.665</td>\n",
              "      <td>58.640</td>\n",
              "      <td>2864.0</td>\n",
              "      <td>1659.0</td>\n",
              "      <td>4456.0</td>\n",
              "      <td>3564.5</td>\n",
              "      <td>alpha</td>\n",
              "    </tr>\n",
              "    <tr>\n",
              "      <th>2</th>\n",
              "      <td>ID_007310</td>\n",
              "      <td>31.755</td>\n",
              "      <td>59.000</td>\n",
              "      <td>2850.5</td>\n",
              "      <td>1615.0</td>\n",
              "      <td>4391.0</td>\n",
              "      <td>2683.5</td>\n",
              "      <td>alpha</td>\n",
              "    </tr>\n",
              "    <tr>\n",
              "      <th>3</th>\n",
              "      <td>ID_007311</td>\n",
              "      <td>31.860</td>\n",
              "      <td>66.850</td>\n",
              "      <td>3853.5</td>\n",
              "      <td>2868.5</td>\n",
              "      <td>4170.5</td>\n",
              "      <td>3025.5</td>\n",
              "      <td>alpha</td>\n",
              "    </tr>\n",
              "    <tr>\n",
              "      <th>4</th>\n",
              "      <td>ID_007312</td>\n",
              "      <td>29.600</td>\n",
              "      <td>73.115</td>\n",
              "      <td>2506.5</td>\n",
              "      <td>3631.5</td>\n",
              "      <td>1481.5</td>\n",
              "      <td>2112.5</td>\n",
              "      <td>alpha</td>\n",
              "    </tr>\n",
              "  </tbody>\n",
              "</table>\n",
              "</div>"
            ],
            "text/plain": [
              "          ID  Temperature  Humidity  MQ7_analog  MQ9_analog  MG811_analog  \\\n",
              "0  ID_007308       32.450    59.990      3504.0      1380.0        2642.5   \n",
              "1  ID_007309       31.665    58.640      2864.0      1659.0        4456.0   \n",
              "2  ID_007310       31.755    59.000      2850.5      1615.0        4391.0   \n",
              "3  ID_007311       31.860    66.850      3853.5      2868.5        4170.5   \n",
              "4  ID_007312       29.600    73.115      2506.5      3631.5        1481.5   \n",
              "\n",
              "   MQ135_analog device_name  \n",
              "0        1637.0       alpha  \n",
              "1        3564.5       alpha  \n",
              "2        2683.5       alpha  \n",
              "3        3025.5       alpha  \n",
              "4        2112.5       alpha  "
            ]
          },
          "execution_count": 4,
          "metadata": {},
          "output_type": "execute_result"
        }
      ],
      "source": [
        "print(\"Test Data Overview:\\n\")\n",
        "test_data.head()"
      ]
    },
    {
      "cell_type": "markdown",
      "metadata": {
        "id": "ZdvhJIjpDZPC"
      },
      "source": [
        "## 🕵️ Exploratory Data Analysis (EDA) 🔍\n",
        "\n",
        "We begin EDA with a structural overview of the training dataset:\n",
        "\n",
        "- **`train_data.info()`**: Provides information about the dataset, including:\n",
        "  - Number of entries and columns 📊.\n",
        "  - Data types of each column 🔢.\n",
        "  - Non-null counts to identify missing values ⚠️.\n",
        "\n",
        "This step helps us assess the data's quality and prepare for further analysis. Let’s uncover the story behind the data! 📖\n"
      ]
    },
    {
      "cell_type": "code",
      "execution_count": null,
      "metadata": {
        "id": "DILGxOQmDZPD",
        "outputId": "ac5f60fd-16be-46b8-9494-b1b297973e55"
      },
      "outputs": [
        {
          "name": "stdout",
          "output_type": "stream",
          "text": [
            "Train Data Info:\n",
            "\n",
            "<class 'pandas.core.frame.DataFrame'>\n",
            "RangeIndex: 7307 entries, 0 to 7306\n",
            "Data columns (total 9 columns):\n",
            " #   Column        Non-Null Count  Dtype  \n",
            "---  ------        --------------  -----  \n",
            " 0   ID            7307 non-null   object \n",
            " 1   Temperature   7307 non-null   float64\n",
            " 2   Humidity      7307 non-null   float64\n",
            " 3   MQ7_analog    7307 non-null   float64\n",
            " 4   MQ9_analog    7307 non-null   float64\n",
            " 5   MG811_analog  7307 non-null   float64\n",
            " 6   MQ135_analog  7307 non-null   float64\n",
            " 7   device_name   7307 non-null   object \n",
            " 8   CO2           7307 non-null   float64\n",
            "dtypes: float64(7), object(2)\n",
            "memory usage: 513.9+ KB\n"
          ]
        }
      ],
      "source": [
        "# Exploratory Data Analysis\n",
        "print(\"Train Data Info:\\n\")\n",
        "train_data.info()"
      ]
    },
    {
      "cell_type": "markdown",
      "metadata": {
        "id": "qur8RjETDZPD"
      },
      "source": [
        "## 📈 Target Variable Distribution 🧐\n",
        "\n",
        "Let's visualize the distribution of the target variable, **CO2**, to understand its behavior:\n",
        "\n",
        "- **`sns.histplot()`**: Creates a histogram of the `CO2` values with a KDE (Kernel Density Estimate) overlay for smoother insights 📊.\n",
        "- **Customization**:\n",
        "  - Adjusts figure size for better clarity 🖼️.\n",
        "  - Adds labels and a title to make the plot informative ✍️.\n",
        "\n",
        "This plot reveals key insights about the variability and skewness of CO2 levels, guiding our modeling decisions. 🎯\n"
      ]
    },
    {
      "cell_type": "code",
      "execution_count": null,
      "metadata": {
        "id": "-53_A4PCDZPE",
        "outputId": "53a4948a-f849-4c13-ad16-d30f40589daa"
      },
      "outputs": [
        {
          "data": {
            "image/png": "[encoded data removed]",
            "text/plain": [
              "<Figure size 800x500 with 1 Axes>"
            ]
          },
          "metadata": {},
          "output_type": "display_data"
        }
      ],
      "source": [
        "# Distribution of target variable\n",
        "plt.figure(figsize=(8, 5))\n",
        "sns.histplot(train_data['CO2'], kde=True, bins=30)\n",
        "plt.title('Distribution of CO2 in Train Data')\n",
        "plt.xlabel('CO2')\n",
        "plt.ylabel('Frequency')\n",
        "plt.show()\n"
      ]
    },
    {
      "cell_type": "markdown",
      "metadata": {
        "id": "yaabj4rMDZPE"
      },
      "source": [
        "## 🔗 Correlation Analysis 🔍\n",
        "\n",
        "Here, we examine the relationships between numerical features in the dataset:\n",
        "\n",
        "- **`train_data.corr()`**: Computes pairwise correlations between features 📊.\n",
        "- **`sns.heatmap()`**: Visualizes the correlations in a heatmap for easy interpretation 🎨.\n",
        "  - **`annot=False`**: Keeps the heatmap uncluttered by excluding correlation values 🧹.\n",
        "  - **`cmap='coolwarm'`**: Uses a visually appealing color scheme 🌈.\n",
        "- **Customization**: Adjusts figure size and adds a title for clarity ✍️.\n",
        "\n",
        "This step helps us identify highly correlated features, which can influence feature selection and model performance. 🚀\n"
      ]
    },
    {
      "cell_type": "code",
      "execution_count": null,
      "metadata": {
        "id": "SLofYYppDZPF",
        "outputId": "218a1357-e121-4730-f122-fc6723e49f4e"
      },
      "outputs": [
        {
          "name": "stderr",
          "output_type": "stream",
          "text": [
            "C:\\Users\\osink\\AppData\\Local\\Temp\\ipykernel_54576\\1000836810.py:3: FutureWarning: The default value of numeric_only in DataFrame.corr is deprecated. In a future version, it will default to False. Select only valid columns or specify the value of numeric_only to silence this warning.\n",
            "  sns.heatmap(train_data.corr(), annot=False, cmap='coolwarm')\n"
          ]
        },
        {
          "data": {
            "image/png": "[encoded data removed]",
            "text/plain": [
              "<Figure size 1000x800 with 2 Axes>"
            ]
          },
          "metadata": {},
          "output_type": "display_data"
        }
      ],
      "source": [
        "# Correlation analysis\n",
        "plt.figure(figsize=(10, 8))\n",
        "sns.heatmap(train_data.corr(), annot=False, cmap='coolwarm')\n",
        "plt.title('Correlation Heatmap')\n",
        "plt.show()"
      ]
    },
    {
      "cell_type": "markdown",
      "metadata": {
        "id": "qumoaci4DZPH"
      },
      "source": [
        "## ✂️ Feature Selection & Preprocessing 🔄\n",
        "\n",
        "We define the key components for model training:\n",
        "\n",
        "- **`features`**: A list of selected columns used as input predictors for the model 📊.\n",
        "  - Includes environmental and sensor data like `Temperature`, `Humidity`, and sensor readings.\n",
        "- **`target`**: The column we aim to predict (`CO2`) 🎯.\n",
        "\n",
        "This step ensures we focus on the most relevant variables for building an effective predictive model. 🚀\n"
      ]
    },
    {
      "cell_type": "code",
      "execution_count": null,
      "metadata": {
        "id": "aWPljYDbDZPH"
      },
      "outputs": [],
      "source": [
        "# Feature selection and preprocessing\n",
        "features = ['Temperature', 'Humidity', 'MQ7_analog', 'MQ9_analog', 'MG811_analog', 'MQ135_analog']\n",
        "target = 'CO2'"
      ]
    },
    {
      "cell_type": "markdown",
      "metadata": {
        "id": "RDCW7tCSDZPI"
      },
      "source": [
        "## 🎯 Splitting Features and Target 📋\n",
        "\n",
        "We separate the dataset into:\n",
        "\n",
        "- **`X`**: The input features defined earlier (predictors) 🔢.\n",
        "- **`y`**: The target variable, **CO2**, which we aim to predict 🌟.\n",
        "\n",
        "This separation is crucial for training machine learning models, ensuring a clear distinction between inputs and outputs. 🚀\n"
      ]
    },
    {
      "cell_type": "code",
      "execution_count": null,
      "metadata": {
        "id": "Ec67UKpSDZPI"
      },
      "outputs": [],
      "source": [
        "X = train_data[features]\n",
        "y = train_data[target]"
      ]
    },
    {
      "cell_type": "markdown",
      "metadata": {
        "id": "9yTuPf3bDZPJ"
      },
      "source": [
        "## ✂️ Train-Test Split 🔀\n",
        "\n",
        "We divide the data into training and validation sets:\n",
        "\n",
        "- **`train_test_split()`**: Splits the data into:\n",
        "  - **`X_train`** & **`y_train`**: For training the model 🏋️.\n",
        "  - **`X_val`** & **`y_val`**: For evaluating the model's performance 📏.\n",
        "- **Parameters**:\n",
        "  - **`test_size=0.2`**: Reserves 20% of the data for validation 🧪.\n",
        "  - **`random_state=42`**: Ensures reproducibility with a fixed random seed 🔒.\n",
        "\n",
        "This step ensures the model is trained on one set of data and tested on another, reducing the risk of overfitting. 🚀\n"
      ]
    },
    {
      "cell_type": "code",
      "execution_count": null,
      "metadata": {
        "id": "x5DPqQTNDZPJ"
      },
      "outputs": [],
      "source": [
        "# Train-test split\n",
        "X_train, X_val, y_train, y_val = train_test_split(X, y, test_size=0.2, random_state=42)"
      ]
    },
    {
      "cell_type": "markdown",
      "metadata": {
        "id": "AG8da6ChDZPJ"
      },
      "source": [
        "## 🌳 Model Training: Random Forest Regressor 🚀\n",
        "\n",
        "We train a **Random Forest Regressor** to predict CO2 levels:\n",
        "\n",
        "- **`RandomForestRegressor`**: A powerful ensemble-based model that combines multiple decision trees 🌟.\n",
        "- **Parameters**:\n",
        "  - **`random_state=42`**: Ensures reproducibility by setting a fixed random seed 🔒.\n",
        "  - **`n_estimators=100`**: Uses 100 trees in the forest for robust predictions 🌲.\n",
        "\n",
        "- **`fit(X_train, y_train)`**: Trains the model on the training dataset 🏋️.\n",
        "\n",
        "This model is well-suited for handling complex patterns in data while reducing overfitting risks. 🌟\n"
      ]
    },
    {
      "cell_type": "code",
      "execution_count": null,
      "metadata": {
        "id": "fyaz0iqgDZPK",
        "outputId": "f8a09ee5-a95d-42d7-acd3-3e4663a8127a"
      },
      "outputs": [
        {
          "data": {
            "text/html": [
              "<style>#sk-container-id-1 {\n",
              "  /* Definition of color scheme common for light and dark mode */\n",
              "  --sklearn-color-text: black;\n",
              "  --sklearn-color-line: gray;\n",
              "  /* Definition of color scheme for unfitted estimators */\n",
              "  --sklearn-color-unfitted-level-0: #fff5e6;\n",
              "  --sklearn-color-unfitted-level-1: #f6e4d2;\n",
              "  --sklearn-color-unfitted-level-2: #ffe0b3;\n",
              "  --sklearn-color-unfitted-level-3: chocolate;\n",
              "  /* Definition of color scheme for fitted estimators */\n",
              "  --sklearn-color-fitted-level-0: #f0f8ff;\n",
              "  --sklearn-color-fitted-level-1: #d4ebff;\n",
              "  --sklearn-color-fitted-level-2: #b3dbfd;\n",
              "  --sklearn-color-fitted-level-3: cornflowerblue;\n",
              "\n",
              "  /* Specific color for light theme */\n",
              "  --sklearn-color-text-on-default-background: var(--sg-text-color, var(--theme-code-foreground, var(--jp-content-font-color1, black)));\n",
              "  --sklearn-color-background: var(--sg-background-color, var(--theme-background, var(--jp-layout-color0, white)));\n",
              "  --sklearn-color-border-box: var(--sg-text-color, var(--theme-code-foreground, var(--jp-content-font-color1, black)));\n",
              "  --sklearn-color-icon: #696969;\n",
              "\n",
              "  @media (prefers-color-scheme: dark) {\n",
              "    /* Redefinition of color scheme for dark theme */\n",
              "    --sklearn-color-text-on-default-background: var(--sg-text-color, var(--theme-code-foreground, var(--jp-content-font-color1, white)));\n",
              "    --sklearn-color-background: var(--sg-background-color, var(--theme-background, var(--jp-layout-color0, #111)));\n",
              "    --sklearn-color-border-box: var(--sg-text-color, var(--theme-code-foreground, var(--jp-content-font-color1, white)));\n",
              "    --sklearn-color-icon: #878787;\n",
              "  }\n",
              "}\n",
              "\n",
              "#sk-container-id-1 {\n",
              "  color: var(--sklearn-color-text);\n",
              "}\n",
              "\n",
              "#sk-container-id-1 pre {\n",
              "  padding: 0;\n",
              "}\n",
              "\n",
              "#sk-container-id-1 input.sk-hidden--visually {\n",
              "  border: 0;\n",
              "  clip: rect(1px 1px 1px 1px);\n",
              "  clip: rect(1px, 1px, 1px, 1px);\n",
              "  height: 1px;\n",
              "  margin: -1px;\n",
              "  overflow: hidden;\n",
              "  padding: 0;\n",
              "  position: absolute;\n",
              "  width: 1px;\n",
              "}\n",
              "\n",
              "#sk-container-id-1 div.sk-dashed-wrapped {\n",
              "  border: 1px dashed var(--sklearn-color-line);\n",
              "  margin: 0 0.4em 0.5em 0.4em;\n",
              "  box-sizing: border-box;\n",
              "  padding-bottom: 0.4em;\n",
              "  background-color: var(--sklearn-color-background);\n",
              "}\n",
              "\n",
              "#sk-container-id-1 div.sk-container {\n",
              "  /* jupyter's `normalize.less` sets `[hidden] { display: none; }`\n",
              "     but bootstrap.min.css set `[hidden] { display: none !important; }`\n",
              "     so we also need the `!important` here to be able to override the\n",
              "     default hidden behavior on the sphinx rendered scikit-learn.org.\n",
              "     See: https://github.com/scikit-learn/scikit-learn/issues/21755 */\n",
              "  display: inline-block !important;\n",
              "  position: relative;\n",
              "}\n",
              "\n",
              "#sk-container-id-1 div.sk-text-repr-fallback {\n",
              "  display: none;\n",
              "}\n",
              "\n",
              "div.sk-parallel-item,\n",
              "div.sk-serial,\n",
              "div.sk-item {\n",
              "  /* draw centered vertical line to link estimators */\n",
              "  background-image: linear-gradient(var(--sklearn-color-text-on-default-background), var(--sklearn-color-text-on-default-background));\n",
              "  background-size: 2px 100%;\n",
              "  background-repeat: no-repeat;\n",
              "  background-position: center center;\n",
              "}\n",
              "\n",
              "/* Parallel-specific style estimator block */\n",
              "\n",
              "#sk-container-id-1 div.sk-parallel-item::after {\n",
              "  content: \"\";\n",
              "  width: 100%;\n",
              "  border-bottom: 2px solid var(--sklearn-color-text-on-default-background);\n",
              "  flex-grow: 1;\n",
              "}\n",
              "\n",
              "#sk-container-id-1 div.sk-parallel {\n",
              "  display: flex;\n",
              "  align-items: stretch;\n",
              "  justify-content: center;\n",
              "  background-color: var(--sklearn-color-background);\n",
              "  position: relative;\n",
              "}\n",
              "\n",
              "#sk-container-id-1 div.sk-parallel-item {\n",
              "  display: flex;\n",
              "  flex-direction: column;\n",
              "}\n",
              "\n",
              "#sk-container-id-1 div.sk-parallel-item:first-child::after {\n",
              "  align-self: flex-end;\n",
              "  width: 50%;\n",
              "}\n",
              "\n",
              "#sk-container-id-1 div.sk-parallel-item:last-child::after {\n",
              "  align-self: flex-start;\n",
              "  width: 50%;\n",
              "}\n",
              "\n",
              "#sk-container-id-1 div.sk-parallel-item:only-child::after {\n",
              "  width: 0;\n",
              "}\n",
              "\n",
              "/* Serial-specific style estimator block */\n",
              "\n",
              "#sk-container-id-1 div.sk-serial {\n",
              "  display: flex;\n",
              "  flex-direction: column;\n",
              "  align-items: center;\n",
              "  background-color: var(--sklearn-color-background);\n",
              "  padding-right: 1em;\n",
              "  padding-left: 1em;\n",
              "}\n",
              "\n",
              "\n",
              "/* Toggleable style: style used for estimator/Pipeline/ColumnTransformer box that is\n",
              "clickable and can be expanded/collapsed.\n",
              "- Pipeline and ColumnTransformer use this feature and define the default style\n",
              "- Estimators will overwrite some part of the style using the `sk-estimator` class\n",
              "*/\n",
              "\n",
              "/* Pipeline and ColumnTransformer style (default) */\n",
              "\n",
              "#sk-container-id-1 div.sk-toggleable {\n",
              "  /* Default theme specific background. It is overwritten whether we have a\n",
              "  specific estimator or a Pipeline/ColumnTransformer */\n",
              "  background-color: var(--sklearn-color-background);\n",
              "}\n",
              "\n",
              "/* Toggleable label */\n",
              "#sk-container-id-1 label.sk-toggleable__label {\n",
              "  cursor: pointer;\n",
              "  display: block;\n",
              "  width: 100%;\n",
              "  margin-bottom: 0;\n",
              "  padding: 0.5em;\n",
              "  box-sizing: border-box;\n",
              "  text-align: center;\n",
              "}\n",
              "\n",
              "#sk-container-id-1 label.sk-toggleable__label-arrow:before {\n",
              "  /* Arrow on the left of the label */\n",
              "  content: \"▸\";\n",
              "  float: left;\n",
              "  margin-right: 0.25em;\n",
              "  color: var(--sklearn-color-icon);\n",
              "}\n",
              "\n",
              "#sk-container-id-1 label.sk-toggleable__label-arrow:hover:before {\n",
              "  color: var(--sklearn-color-text);\n",
              "}\n",
              "\n",
              "/* Toggleable content - dropdown */\n",
              "\n",
              "#sk-container-id-1 div.sk-toggleable__content {\n",
              "  max-height: 0;\n",
              "  max-width: 0;\n",
              "  overflow: hidden;\n",
              "  text-align: left;\n",
              "  /* unfitted */\n",
              "  background-color: var(--sklearn-color-unfitted-level-0);\n",
              "}\n",
              "\n",
              "#sk-container-id-1 div.sk-toggleable__content.fitted {\n",
              "  /* fitted */\n",
              "  background-color: var(--sklearn-color-fitted-level-0);\n",
              "}\n",
              "\n",
              "#sk-container-id-1 div.sk-toggleable__content pre {\n",
              "  margin: 0.2em;\n",
              "  border-radius: 0.25em;\n",
              "  color: var(--sklearn-color-text);\n",
              "  /* unfitted */\n",
              "  background-color: var(--sklearn-color-unfitted-level-0);\n",
              "}\n",
              "\n",
              "#sk-container-id-1 div.sk-toggleable__content.fitted pre {\n",
              "  /* unfitted */\n",
              "  background-color: var(--sklearn-color-fitted-level-0);\n",
              "}\n",
              "\n",
              "#sk-container-id-1 input.sk-toggleable__control:checked~div.sk-toggleable__content {\n",
              "  /* Expand drop-down */\n",
              "  max-height: 200px;\n",
              "  max-width: 100%;\n",
              "  overflow: auto;\n",
              "}\n",
              "\n",
              "#sk-container-id-1 input.sk-toggleable__control:checked~label.sk-toggleable__label-arrow:before {\n",
              "  content: \"▾\";\n",
              "}\n",
              "\n",
              "/* Pipeline/ColumnTransformer-specific style */\n",
              "\n",
              "#sk-container-id-1 div.sk-label input.sk-toggleable__control:checked~label.sk-toggleable__label {\n",
              "  color: var(--sklearn-color-text);\n",
              "  background-color: var(--sklearn-color-unfitted-level-2);\n",
              "}\n",
              "\n",
              "#sk-container-id-1 div.sk-label.fitted input.sk-toggleable__control:checked~label.sk-toggleable__label {\n",
              "  background-color: var(--sklearn-color-fitted-level-2);\n",
              "}\n",
              "\n",
              "/* Estimator-specific style */\n",
              "\n",
              "/* Colorize estimator box */\n",
              "#sk-container-id-1 div.sk-estimator input.sk-toggleable__control:checked~label.sk-toggleable__label {\n",
              "  /* unfitted */\n",
              "  background-color: var(--sklearn-color-unfitted-level-2);\n",
              "}\n",
              "\n",
              "#sk-container-id-1 div.sk-estimator.fitted input.sk-toggleable__control:checked~label.sk-toggleable__label {\n",
              "  /* fitted */\n",
              "  background-color: var(--sklearn-color-fitted-level-2);\n",
              "}\n",
              "\n",
              "#sk-container-id-1 div.sk-label label.sk-toggleable__label,\n",
              "#sk-container-id-1 div.sk-label label {\n",
              "  /* The background is the default theme color */\n",
              "  color: var(--sklearn-color-text-on-default-background);\n",
              "}\n",
              "\n",
              "/* On hover, darken the color of the background */\n",
              "#sk-container-id-1 div.sk-label:hover label.sk-toggleable__label {\n",
              "  color: var(--sklearn-color-text);\n",
              "  background-color: var(--sklearn-color-unfitted-level-2);\n",
              "}\n",
              "\n",
              "/* Label box, darken color on hover, fitted */\n",
              "#sk-container-id-1 div.sk-label.fitted:hover label.sk-toggleable__label.fitted {\n",
              "  color: var(--sklearn-color-text);\n",
              "  background-color: var(--sklearn-color-fitted-level-2);\n",
              "}\n",
              "\n",
              "/* Estimator label */\n",
              "\n",
              "#sk-container-id-1 div.sk-label label {\n",
              "  font-family: monospace;\n",
              "  font-weight: bold;\n",
              "  display: inline-block;\n",
              "  line-height: 1.2em;\n",
              "}\n",
              "\n",
              "#sk-container-id-1 div.sk-label-container {\n",
              "  text-align: center;\n",
              "}\n",
              "\n",
              "/* Estimator-specific */\n",
              "#sk-container-id-1 div.sk-estimator {\n",
              "  font-family: monospace;\n",
              "  border: 1px dotted var(--sklearn-color-border-box);\n",
              "  border-radius: 0.25em;\n",
              "  box-sizing: border-box;\n",
              "  margin-bottom: 0.5em;\n",
              "  /* unfitted */\n",
              "  background-color: var(--sklearn-color-unfitted-level-0);\n",
              "}\n",
              "\n",
              "#sk-container-id-1 div.sk-estimator.fitted {\n",
              "  /* fitted */\n",
              "  background-color: var(--sklearn-color-fitted-level-0);\n",
              "}\n",
              "\n",
              "/* on hover */\n",
              "#sk-container-id-1 div.sk-estimator:hover {\n",
              "  /* unfitted */\n",
              "  background-color: var(--sklearn-color-unfitted-level-2);\n",
              "}\n",
              "\n",
              "#sk-container-id-1 div.sk-estimator.fitted:hover {\n",
              "  /* fitted */\n",
              "  background-color: var(--sklearn-color-fitted-level-2);\n",
              "}\n",
              "\n",
              "/* Specification for estimator info (e.g. \"i\" and \"?\") */\n",
              "\n",
              "/* Common style for \"i\" and \"?\" */\n",
              "\n",
              ".sk-estimator-doc-link,\n",
              "a:link.sk-estimator-doc-link,\n",
              "a:visited.sk-estimator-doc-link {\n",
              "  float: right;\n",
              "  font-size: smaller;\n",
              "  line-height: 1em;\n",
              "  font-family: monospace;\n",
              "  background-color: var(--sklearn-color-background);\n",
              "  border-radius: 1em;\n",
              "  height: 1em;\n",
              "  width: 1em;\n",
              "  text-decoration: none !important;\n",
              "  margin-left: 1ex;\n",
              "  /* unfitted */\n",
              "  border: var(--sklearn-color-unfitted-level-1) 1pt solid;\n",
              "  color: var(--sklearn-color-unfitted-level-1);\n",
              "}\n",
              "\n",
              ".sk-estimator-doc-link.fitted,\n",
              "a:link.sk-estimator-doc-link.fitted,\n",
              "a:visited.sk-estimator-doc-link.fitted {\n",
              "  /* fitted */\n",
              "  border: var(--sklearn-color-fitted-level-1) 1pt solid;\n",
              "  color: var(--sklearn-color-fitted-level-1);\n",
              "}\n",
              "\n",
              "/* On hover */\n",
              "div.sk-estimator:hover .sk-estimator-doc-link:hover,\n",
              ".sk-estimator-doc-link:hover,\n",
              "div.sk-label-container:hover .sk-estimator-doc-link:hover,\n",
              ".sk-estimator-doc-link:hover {\n",
              "  /* unfitted */\n",
              "  background-color: var(--sklearn-color-unfitted-level-3);\n",
              "  color: var(--sklearn-color-background);\n",
              "  text-decoration: none;\n",
              "}\n",
              "\n",
              "div.sk-estimator.fitted:hover .sk-estimator-doc-link.fitted:hover,\n",
              ".sk-estimator-doc-link.fitted:hover,\n",
              "div.sk-label-container:hover .sk-estimator-doc-link.fitted:hover,\n",
              ".sk-estimator-doc-link.fitted:hover {\n",
              "  /* fitted */\n",
              "  background-color: var(--sklearn-color-fitted-level-3);\n",
              "  color: var(--sklearn-color-background);\n",
              "  text-decoration: none;\n",
              "}\n",
              "\n",
              "/* Span, style for the box shown on hovering the info icon */\n",
              ".sk-estimator-doc-link span {\n",
              "  display: none;\n",
              "  z-index: 9999;\n",
              "  position: relative;\n",
              "  font-weight: normal;\n",
              "  right: .2ex;\n",
              "  padding: .5ex;\n",
              "  margin: .5ex;\n",
              "  width: min-content;\n",
              "  min-width: 20ex;\n",
              "  max-width: 50ex;\n",
              "  color: var(--sklearn-color-text);\n",
              "  box-shadow: 2pt 2pt 4pt #999;\n",
              "  /* unfitted */\n",
              "  background: var(--sklearn-color-unfitted-level-0);\n",
              "  border: .5pt solid var(--sklearn-color-unfitted-level-3);\n",
              "}\n",
              "\n",
              ".sk-estimator-doc-link.fitted span {\n",
              "  /* fitted */\n",
              "  background: var(--sklearn-color-fitted-level-0);\n",
              "  border: var(--sklearn-color-fitted-level-3);\n",
              "}\n",
              "\n",
              ".sk-estimator-doc-link:hover span {\n",
              "  display: block;\n",
              "}\n",
              "\n",
              "/* \"?\"-specific style due to the `<a>` HTML tag */\n",
              "\n",
              "#sk-container-id-1 a.estimator_doc_link {\n",
              "  float: right;\n",
              "  font-size: 1rem;\n",
              "  line-height: 1em;\n",
              "  font-family: monospace;\n",
              "  background-color: var(--sklearn-color-background);\n",
              "  border-radius: 1rem;\n",
              "  height: 1rem;\n",
              "  width: 1rem;\n",
              "  text-decoration: none;\n",
              "  /* unfitted */\n",
              "  color: var(--sklearn-color-unfitted-level-1);\n",
              "  border: var(--sklearn-color-unfitted-level-1) 1pt solid;\n",
              "}\n",
              "\n",
              "#sk-container-id-1 a.estimator_doc_link.fitted {\n",
              "  /* fitted */\n",
              "  border: var(--sklearn-color-fitted-level-1) 1pt solid;\n",
              "  color: var(--sklearn-color-fitted-level-1);\n",
              "}\n",
              "\n",
              "/* On hover */\n",
              "#sk-container-id-1 a.estimator_doc_link:hover {\n",
              "  /* unfitted */\n",
              "  background-color: var(--sklearn-color-unfitted-level-3);\n",
              "  color: var(--sklearn-color-background);\n",
              "  text-decoration: none;\n",
              "}\n",
              "\n",
              "#sk-container-id-1 a.estimator_doc_link.fitted:hover {\n",
              "  /* fitted */\n",
              "  background-color: var(--sklearn-color-fitted-level-3);\n",
              "}\n",
              "</style><div id=\"sk-container-id-1\" class=\"sk-top-container\"><div class=\"sk-text-repr-fallback\"><pre>RandomForestRegressor(random_state=42)</pre><b>In a Jupyter environment, please rerun this cell to show the HTML representation or trust the notebook. <br />On GitHub, the HTML representation is unable to render, please try loading this page with nbviewer.org.</b></div><div class=\"sk-container\" hidden><div class=\"sk-item\"><div class=\"sk-estimator fitted sk-toggleable\"><input class=\"sk-toggleable__control sk-hidden--visually\" id=\"sk-estimator-id-1\" type=\"checkbox\" checked><label for=\"sk-estimator-id-1\" class=\"sk-toggleable__label fitted sk-toggleable__label-arrow fitted\">&nbsp;&nbsp;RandomForestRegressor<a class=\"sk-estimator-doc-link fitted\" rel=\"noreferrer\" target=\"_blank\" href=\"https://scikit-learn.org/1.5/modules/generated/sklearn.ensemble.RandomForestRegressor.html\">?<span>Documentation for RandomForestRegressor</span></a><span class=\"sk-estimator-doc-link fitted\">i<span>Fitted</span></span></label><div class=\"sk-toggleable__content fitted\"><pre>RandomForestRegressor(random_state=42)</pre></div> </div></div></div></div>"
            ],
            "text/plain": [
              "RandomForestRegressor(random_state=42)"
            ]
          },
          "execution_count": 11,
          "metadata": {},
          "output_type": "execute_result"
        }
      ],
      "source": [
        "# Model training: Random Forest Regressor\n",
        "rf_model = RandomForestRegressor(random_state=42, n_estimators=100)\n",
        "rf_model.fit(X_train, y_train)"
      ]
    },
    {
      "cell_type": "markdown",
      "metadata": {
        "id": "DZEHYw10DZPK"
      },
      "source": [
        "## 🧪 Model Validation 📏\n",
        "\n",
        "We evaluate the trained model's performance on the validation set:\n",
        "\n",
        "- **`rf_model.predict(X_val)`**: Generates predictions for the validation data 🔮.\n",
        "- **`mean_squared_error(y_val, val_predictions)`**: Computes the Mean Squared Error (MSE) between actual and predicted values 🧮.\n",
        "- **`np.sqrt()`**: Calculates the Root Mean Squared Error (RMSE) for easier interpretation 🔢.\n",
        "\n",
        "- **Output**:\n",
        "  - The **Validation RMSE** indicates how well the model predicts CO2 levels on unseen data. Lower values are better! 📉\n",
        "\n",
        "This step helps assess model accuracy and identify areas for improvement. 🚀\n"
      ]
    },
    {
      "cell_type": "code",
      "execution_count": null,
      "metadata": {
        "id": "OU8-V87KDZPK",
        "outputId": "d99be053-61cb-4ead-bcdf-ad50efbd2da4"
      },
      "outputs": [
        {
          "name": "stdout",
          "output_type": "stream",
          "text": [
            "Validation RMSE: 5.02\n"
          ]
        }
      ],
      "source": [
        "# Validation\n",
        "val_predictions = rf_model.predict(X_val)\n",
        "val_rmse = np.sqrt(mean_squared_error(y_val, val_predictions))\n",
        "print(f\"Validation RMSE: {val_rmse:.2f}\")"
      ]
    },
    {
      "cell_type": "markdown",
      "metadata": {
        "id": "P_3JtRorDZPL"
      },
      "source": [
        "## 🔮 Generating Test Predictions 📤\n",
        "\n",
        "We use the trained model to predict CO2 levels for the test dataset:\n",
        "\n",
        "- **`test_features`**: Extracts the same selected features from the test data 📊.\n",
        "- **`rf_model.predict(test_features)`**: Applies the Random Forest model to generate predictions 🔮.\n",
        "\n",
        "These predictions are the core output for submission to the competition hosted on **Zindi** 🏆. Time to submit and climb the leaderboard! 🚀\n"
      ]
    },
    {
      "cell_type": "code",
      "execution_count": null,
      "metadata": {
        "id": "PdOa4Vd_DZPL"
      },
      "outputs": [],
      "source": [
        "# Test predictions\n",
        "test_features = test_data[features]\n",
        "test_predictions = rf_model.predict(test_features)"
      ]
    },
    {
      "cell_type": "markdown",
      "metadata": {
        "id": "yuAvwJPPDZPL"
      },
      "source": [
        "## 📤 Preparing the Submission File 📝\n",
        "\n",
        "We format our predictions for submission to the **Zindi** competition:\n",
        "\n",
        "- **`sample_submission['CO2']`**: Updates the `CO2` column with the predicted values from the test dataset 🌟.\n",
        "- **`to_csv('submission.csv', index=False)`**: Saves the updated dataframe as a CSV file named `submission.csv` 📁.\n",
        "\n",
        "- **Output**:\n",
        "  - Prints a confirmation message: *\"Submission file saved as 'submission.csv'\"* ✅.\n",
        "\n",
        "With the submission file ready, you're all set to compete and aim for the top spot on Zindi! 🏆🚀\n"
      ]
    },
    {
      "cell_type": "code",
      "execution_count": null,
      "metadata": {
        "id": "qrvdSTYWDZPM",
        "outputId": "ab61d6e9-8b35-4e59-d3c6-f8e30a8ee45c"
      },
      "outputs": [
        {
          "name": "stdout",
          "output_type": "stream",
          "text": [
            "Submission file saved as 'submission.csv'\n"
          ]
        }
      ],
      "source": [
        "# Prepare submission\n",
        "sample_submission['CO2'] = test_predictions\n",
        "sample_submission.to_csv('submission.csv', index=False)\n",
        "print(\"Submission file saved as 'submission.csv'\")"
      ]
    },
    {
      "cell_type": "markdown",
      "metadata": {
        "id": "GqOhy_NJDZPM"
      },
      "source": [
        "## 🎉 Wrapping Up 🌟\n",
        "\n",
        "Congratulations on completing the **Air Quality Prediction Notebook**! Here's a quick recap of what we've achieved:\n",
        "\n",
        "- 📊 **Explored the Data**: Gained insights into the training and test datasets.\n",
        "- 🌲 **Trained a Model**: Built a Random Forest Regressor to predict CO2 levels.\n",
        "- 📏 **Validated the Model**: Assessed its performance using RMSE on validation data.\n",
        "- 📤 **Prepared Submission**: Generated predictions and created a submission file for the Zindi competition.\n",
        "\n",
        "This notebook and its explanations were thoughtfully generated by **ChatGPT**, designed to help you kickstart your journey in this competition with ease. 🚀\n",
        "\n",
        "Good luck on the **Zindi leaderboard**, and remember: every improvement counts! 🏆💪\n"
      ]
    },
    {
      "cell_type": "markdown",
      "metadata": {
        "id": "vK8IFIYyDZPM"
      },
      "source": [
        "### Hosts: Olufemi Victor Tolulope & Olaleye Eniola\n"
      ]
    },
    {
      "cell_type": "markdown",
      "metadata": {
        "id": "s5QZmbvyDZPN"
      },
      "source": [
        "Victor's Socials:\n",
        "\n",
        "- [Twitter](https://twitter.com/olufemivictort)\n",
        "- [LinkedIn](https://www.linkedin.com/in/olufemi-victor-tolulope)\n",
        "- [website](https://www.olufemivictor.com/)\n",
        "\n",
        "Eniola's Socials\n",
        "- [Twitter](https://x.com/galileoeni)\n",
        "- [LinkedIn](https://www.linkedin.com/in/eniola-olaleye-361b39160)\n",
        "- [website](https://galileoeni.github.io/galileo/)"
      ]
    },
    {
      "cell_type": "markdown",
      "metadata": {
        "id": "Ekto77FVDZPN"
      },
      "source": []
    }
  ],
  "metadata": {
    "kernelspec": {
      "display_name": "base",
      "language": "python",
      "name": "python3"
    },
    "language_info": {
      "codemirror_mode": {
        "name": "ipython",
        "version": 3
      },
      "file_extension": ".py",
      "mimetype": "text/x-python",
      "name": "python",
      "nbconvert_exporter": "python",
      "pygments_lexer": "ipython3",
      "version": "3.11.7"
    },
    "colab": {
      "provenance": []
    }
  },
  "nbformat": 4,
  "nbformat_minor": 0
}